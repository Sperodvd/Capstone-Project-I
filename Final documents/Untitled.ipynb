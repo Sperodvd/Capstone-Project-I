{
 "cells": [
  {
   "cell_type": "code",
   "execution_count": 39,
   "metadata": {},
   "outputs": [],
   "source": [
    "import pandas as pd\n",
    "import numpy as np\n",
    "import os\n",
    "import matplotlib.pyplot as plt\n",
    "import seaborn as sns\n",
    "import statsmodels.api as sm\n",
    "\n",
    "from sklearn.feature_selection import RFE\n",
    "from sklearn.ensemble import RandomForestClassifier\n",
    "from sklearn.model_selection import train_test_split\n",
    "from sklearn.feature_selection import RFECV\n",
    "\n",
    "import warnings\n",
    "warnings.filterwarnings('ignore')\n"
   ]
  },
  {
   "cell_type": "code",
   "execution_count": 40,
   "metadata": {},
   "outputs": [],
   "source": [
    "c_data = pd.read_csv('../data/data_cleaned.csv')"
   ]
  },
  {
   "cell_type": "code",
   "execution_count": 41,
   "metadata": {},
   "outputs": [],
   "source": [
    "corr_df = c_data.corr()"
   ]
  },
  {
   "cell_type": "code",
   "execution_count": 42,
   "metadata": {},
   "outputs": [],
   "source": [
    "corr_mat = corr_df.iloc[1:,1:]"
   ]
  },
  {
   "cell_type": "code",
   "execution_count": 43,
   "metadata": {},
   "outputs": [],
   "source": [
    "drop_list = []\n",
    "for i in range(len(corr_mat.columns)):\n",
    "    for j in range(i):\n",
    "        if abs(corr_mat.iloc[i,j]) > 0.95:\n",
    "            if corr_mat.columns[j] not in drop_list:\n",
    "                drop_list.append(corr_mat.columns[j])"
   ]
  },
  {
   "cell_type": "code",
   "execution_count": 44,
   "metadata": {},
   "outputs": [
    {
     "data": {
      "text/plain": [
       "17"
      ]
     },
     "execution_count": 44,
     "metadata": {},
     "output_type": "execute_result"
    }
   ],
   "source": [
    "len(drop_list)"
   ]
  },
  {
   "cell_type": "code",
   "execution_count": 45,
   "metadata": {},
   "outputs": [
    {
     "data": {
      "text/plain": [
       "78"
      ]
     },
     "execution_count": 45,
     "metadata": {},
     "output_type": "execute_result"
    }
   ],
   "source": [
    "cc_data = c_data.drop(drop_list, axis =1)\n",
    "len(cc_data.columns)"
   ]
  },
  {
   "cell_type": "code",
   "execution_count": 46,
   "metadata": {},
   "outputs": [],
   "source": [
    "X = cc_data.drop(['Bankrupt?'],axis=1)\n",
    "y = cc_data['Bankrupt?']"
   ]
  },
  {
   "cell_type": "code",
   "execution_count": 47,
   "metadata": {},
   "outputs": [],
   "source": [
    "X_train, X_test, y_train, y_test = train_test_split(X, y, random_state=1)"
   ]
  },
  {
   "cell_type": "code",
   "execution_count": null,
   "metadata": {},
   "outputs": [],
   "source": [
    "cols = list(X.columns)\n",
    "pmax =1\n",
    "while (len(cols) >0):\n",
    "    p=[]"
   ]
  },
  {
   "cell_type": "code",
   "execution_count": 48,
   "metadata": {},
   "outputs": [
    {
     "name": "stdout",
     "output_type": "stream",
     "text": [
      "Score: 0.966 Number of features: 5\n",
      "Score: 0.965 Number of features: 10\n",
      "Score: 0.965 Number of features: 15\n",
      "Score: 0.964 Number of features: 20\n",
      "Score: 0.964 Number of features: 25\n",
      "Score: 0.964 Number of features: 30\n",
      "Score: 0.966 Number of features: 35\n",
      "Score: 0.965 Number of features: 40\n",
      "Score: 0.965 Number of features: 45\n",
      "Score: 0.965 Number of features: 50\n"
     ]
    }
   ],
   "source": [
    "no_features = list(range(5,51,5))\n",
    "est = RandomForestClassifier(n_estimators=100, random_state=42)\n",
    "for i in no_features:\n",
    "    fe_select = RFE(estimator=est, n_features_to_select=i)\n",
    "    fe_select.fit(X_train, y_train)\n",
    "    \n",
    "    X_train_rfe = fe_select.transform(X_train)\n",
    "    X_test_rfe = fe_select.transform(X_test)\n",
    "    \n",
    "    score = RandomForestClassifier().fit(X_train_rfe, y_train).score(X_test_rfe, y_test)\n",
    "    \n",
    "    print(\"Score: {:.3f}\".format(score), \"Number of features: {}\".format(i))"
   ]
  },
  {
   "cell_type": "code",
   "execution_count": null,
   "metadata": {},
   "outputs": [],
   "source": []
  },
  {
   "cell_type": "code",
   "execution_count": null,
   "metadata": {},
   "outputs": [],
   "source": [
    "'''\n",
    "rfc = RandomForestClassifier(random_state=42)\n",
    "cv= RepeatedStratifiedKFold(n_splits=5, n_repeats=1, random_state=1)\n",
    "rfecv = RFECV(estimator=rfc, step=1, cv=cv, scoring='accuracy',min_features_to_select=5)\n",
    "rfecv.fit(X_train,y_train)\n",
    "print('Optimal number of features: {}'.format(rfecv.n_features_))\n",
    "'''"
   ]
  },
  {
   "cell_type": "code",
   "execution_count": null,
   "metadata": {},
   "outputs": [],
   "source": [
    "plt.figure()\n",
    "plt.plot(range(1,len(rfecv.grid_scores_)+1), rfecv.grid_scores_)\n",
    "plt.show()"
   ]
  },
  {
   "cell_type": "code",
   "execution_count": null,
   "metadata": {},
   "outputs": [],
   "source": [
    "plt.figure()\n",
    "plt.plot(range(len(no_features)),score_tot)"
   ]
  },
  {
   "cell_type": "code",
   "execution_count": null,
   "metadata": {},
   "outputs": [],
   "source": []
  }
 ],
 "metadata": {
  "kernelspec": {
   "display_name": "Python 3",
   "language": "python",
   "name": "python3"
  },
  "language_info": {
   "codemirror_mode": {
    "name": "ipython",
    "version": 3
   },
   "file_extension": ".py",
   "mimetype": "text/x-python",
   "name": "python",
   "nbconvert_exporter": "python",
   "pygments_lexer": "ipython3",
   "version": "3.8.5"
  }
 },
 "nbformat": 4,
 "nbformat_minor": 4
}
