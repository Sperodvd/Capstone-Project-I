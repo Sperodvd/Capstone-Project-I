{
 "cells": [
  {
   "cell_type": "code",
   "execution_count": 1,
   "metadata": {},
   "outputs": [],
   "source": [
    "import numpy as np\n",
    "import pandas as pd\n",
    "import matplotlib.pyplot as plt\n",
    "import seaborn as sns\n",
    "from sklearn.pipeline import Pipeline\n",
    "from sklearn.svm import SVC\n",
    "from sklearn.model_selection import train_test_split, GridSearchCV, RandomizedSearchCV\n",
    "from sklearn.linear_model import LogisticRegression\n",
    "from sklearn.metrics import accuracy_score, classification_report, confusion_matrix, roc_curve\n",
    "from sklearn.ensemble import RandomForestClassifier\n",
    "from sklearn.preprocessing import StandardScaler\n",
    "from imblearn.over_sampling import SMOTE\n",
    "\n",
    "import warnings\n",
    "warnings.filterwarnings(\"ignore\")"
   ]
  },
  {
   "cell_type": "code",
   "execution_count": 2,
   "metadata": {},
   "outputs": [],
   "source": [
    "c_data = pd.read_csv('../data/data_cleaned.csv')"
   ]
  },
  {
   "cell_type": "markdown",
   "metadata": {},
   "source": [
    "#### Drop Categorical feature"
   ]
  },
  {
   "cell_type": "markdown",
   "metadata": {},
   "source": [
    "In the previous sections of the Data Wrangling and Exploratory Data Analysis, we observed that the feature 'Liability-Assets flag is insignificant to our analysis. Also since this is the only categorical feature remaining from the dataset, we will drop it for better performance."
   ]
  },
  {
   "cell_type": "code",
   "execution_count": 3,
   "metadata": {},
   "outputs": [],
   "source": [
    "f_data = c_data.drop('Liability-Assets_Flag', axis=1)"
   ]
  },
  {
   "cell_type": "markdown",
   "metadata": {},
   "source": [
    "Now to sepearte the data-set into X and y for training Data preperation."
   ]
  },
  {
   "cell_type": "code",
   "execution_count": 4,
   "metadata": {},
   "outputs": [],
   "source": [
    "X = f_data.drop('Bankrupt?', axis=1)\n",
    "y = f_data['Bankrupt?']"
   ]
  },
  {
   "cell_type": "markdown",
   "metadata": {},
   "source": [
    "#### Dealing with Imbalanced Dataset\n",
    "\n",
    "In Data Wrangling section we have obsereved that the target variable 'Bankrupt' column is highly imbalanced where minority class(Class 1) only contain 220 examples compared to 6599 (Class 0) out of total 6819 companies. This class imbalance problem pose a challenge for predictive modeling as many machine leanring algorithms used for classifications were designed around the assumption of an equal number of examples from each class. This may cause poor predictive performance in models, specificallly for the minority class.\n",
    "Since the goal of this project is to predict the bankruptcy of the company (minority class of 1), the data-set should be addressed of the imbalance issue.\n",
    "\n",
    "The approach I have used to resolve the issue is to apply SMOTE(Synthetic Minority Oversampling Technique) to the minority class. Oversampling is achieved by simply duplicating examples from the minority class in the dataset which can balance the class distribution and does not provide any additional information to the model. This technique is utilized to generate synthetic samples from minority class to imbalanced target class problem."
   ]
  },
  {
   "cell_type": "code",
   "execution_count": 5,
   "metadata": {},
   "outputs": [
    {
     "data": {
      "text/plain": [
       "((13198, 93), (13198,))"
      ]
     },
     "execution_count": 5,
     "metadata": {},
     "output_type": "execute_result"
    }
   ],
   "source": [
    "#Applying SMOTE and checking the shape of both X and y\n",
    "smote = SMOTE(sampling_strategy='minority')\n",
    "X_sm, y_sm = smote.fit_resample(X, y)\n",
    "X_sm.shape, y_sm.shape"
   ]
  },
  {
   "cell_type": "code",
   "execution_count": 6,
   "metadata": {},
   "outputs": [
    {
     "data": {
      "text/plain": [
       "1    6599\n",
       "0    6599\n",
       "Name: Bankrupt?, dtype: int64"
      ]
     },
     "execution_count": 6,
     "metadata": {},
     "output_type": "execute_result"
    }
   ],
   "source": [
    "#Checking the count of the classes in y data\n",
    "y_sm.value_counts()"
   ]
  },
  {
   "cell_type": "markdown",
   "metadata": {},
   "source": [
    "The above count confirms that we now have equal balance between Bankrupt and Survived companies"
   ]
  },
  {
   "cell_type": "markdown",
   "metadata": {},
   "source": [
    "### Machine Learning with the data-set\n",
    "\n",
    "For this notebook, I have tested following supervised learning algorithms for model prediction.\n",
    "1) Logistic Regression <br>\n",
    "2) Random Forest Classification <br>\n",
    "3) Support Vecotr Machine"
   ]
  },
  {
   "cell_type": "markdown",
   "metadata": {},
   "source": [
    "### Logistic Regression\n",
    "For Logistic Regression:\n",
    "- Logistic Regression(Base) - I first computed base model with default parameters and only oversampled(SMOTE) data-set\n",
    "- Logistic Regression(Tuned) - I optimized the model by hyperparameter tuning"
   ]
  },
  {
   "cell_type": "markdown",
   "metadata": {},
   "source": [
    "#### Logistic Regression Base model"
   ]
  },
  {
   "cell_type": "code",
   "execution_count": 39,
   "metadata": {},
   "outputs": [
    {
     "name": "stdout",
     "output_type": "stream",
     "text": [
      "Accuracy: 0.6138888888888889\n",
      "              precision    recall  f1-score   support\n",
      "\n",
      "           0       0.60      0.73      0.66      2005\n",
      "           1       0.64      0.50      0.56      1955\n",
      "\n",
      "    accuracy                           0.61      3960\n",
      "   macro avg       0.62      0.61      0.61      3960\n",
      "weighted avg       0.62      0.61      0.61      3960\n",
      "\n"
     ]
    },
    {
     "data": {
      "text/plain": [
       "<AxesSubplot:>"
      ]
     },
     "execution_count": 39,
     "metadata": {},
     "output_type": "execute_result"
    },
    {
     "data": {
      "image/png": "[encoded data removed]",
      "text/plain": [
       "<Figure size 432x288 with 2 Axes>"
      ]
     },
     "metadata": {
      "needs_background": "light"
     },
     "output_type": "display_data"
    }
   ],
   "source": [
    "#Setting the estimator\n",
    "logreg = LogisticRegression()\n",
    "#Splliting SMOTE applied data-set\n",
    "X_trainsm, X_testsm, y_trainsm, y_testsm = train_test_split(X_sm, y_sm, test_size=0.30, random_state=42)\n",
    "#Fitting the Data\n",
    "logreg.fit(X_trainsm, y_trainsm)\n",
    "y_pred_sm = logreg.predict(X_testsm)\n",
    "\n",
    "#Finalizing the Accuracy, Classification report and creating heat-map for visulization\n",
    "print('Accuracy:', accuracy_score(y_pred_sm, y_testsm))\n",
    "print(classification_report(y_testsm, y_pred_sm))\n",
    "sns.heatmap(confusion_matrix(y_testsm, y_pred_sm), annot=True, cmap='Blues',fmt='d')"
   ]
  },
  {
   "cell_type": "markdown",
   "metadata": {},
   "source": [
    "The Accuracy for the Logistic Regression model is 61.7%. <br>\n",
    "The performance of the base model is reasonable. The percentage of the precision and recall of the classes could be improved for better accuracy."
   ]
  },
  {
   "cell_type": "markdown",
   "metadata": {},
   "source": [
    "#### Hyperparameter Tuning\n",
    "\n",
    "In order to find the most optimal parameter for the Logistic Regression, I have used grid search with cross-validation.\n",
    "For the tuning I have initiated pipeline and applied scaling to the data-set before fitting through the model.\n",
    "\n",
    "The parameter grid is defined: \n",
    "- To find inverse of regularization strength(C) from 0.01-100.\n",
    "- Regularization is specified as Ridge (L2)\n",
    "- Solver option between Limited-memory-Broyden-Fletcher-Goldfarb-Shanno(lbfgs) and Library for Large Linear Classification.\n"
   ]
  },
  {
   "cell_type": "code",
   "execution_count": 40,
   "metadata": {},
   "outputs": [
    {
     "name": "stdout",
     "output_type": "stream",
     "text": [
      "Best: 0.906148 using {'classifier__C': 1.0, 'classifier__penalty': 'l2', 'classifier__solver': 'lbfgs'}\n"
     ]
    }
   ],
   "source": [
    "#Initializing steps with scaling and logistic regression\n",
    "steps = [('scaler',StandardScaler()),\n",
    "        ('classifier', LogisticRegression())]\n",
    "pipeline = Pipeline(steps)\n",
    "\n",
    "#Defining parameter grid to be evaluated\n",
    "params = {'classifier__C':[1.0,10,100,0.1,0.01],\n",
    "         'classifier__penalty':['l2'],\n",
    "         'classifier__solver':['lbfgs', 'liblinear']}\n",
    "\n",
    "#Fitting in Grid search\n",
    "cv = GridSearchCV(pipeline, param_grid=params, cv=3)\n",
    "cv.fit(X_train, y_train)\n",
    "\n",
    "y_pred = cv.predict(X_test)\n",
    "print(\"Best: %f using %s\" % (cv.best_score_, cv.best_params_))"
   ]
  },
  {
   "cell_type": "markdown",
   "metadata": {},
   "source": [
    "The best score defined by the search is C:1.0 with Ridge regularization and 'lbfgs' Solver option"
   ]
  },
  {
   "cell_type": "markdown",
   "metadata": {},
   "source": [
    "#### Scaling the data-set"
   ]
  },
  {
   "cell_type": "code",
   "execution_count": 7,
   "metadata": {},
   "outputs": [],
   "source": [
    "#Scaling X and training the data-set\n",
    "scaler = StandardScaler()\n",
    "X_scaled = scaler.fit_transform(X_sm)\n",
    "X_train, X_test, y_train, y_test = train_test_split(X_scaled, y_sm, test_size=0.30, random_state=42)"
   ]
  },
  {
   "cell_type": "markdown",
   "metadata": {},
   "source": [
    "With the parameter described above, I have re-iterated on the Logistic Regression model to print Accuracy and Classification Report"
   ]
  },
  {
   "cell_type": "code",
   "execution_count": 41,
   "metadata": {},
   "outputs": [
    {
     "name": "stdout",
     "output_type": "stream",
     "text": [
      "0.9118686868686868\n",
      "              precision    recall  f1-score   support\n",
      "\n",
      "           0       0.93      0.90      0.91      2005\n",
      "           1       0.90      0.93      0.91      1955\n",
      "\n",
      "    accuracy                           0.91      3960\n",
      "   macro avg       0.91      0.91      0.91      3960\n",
      "weighted avg       0.91      0.91      0.91      3960\n",
      "\n"
     ]
    },
    {
     "data": {
      "text/plain": [
       "<AxesSubplot:>"
      ]
     },
     "execution_count": 41,
     "metadata": {},
     "output_type": "execute_result"
    },
    {
     "data": {
      "image/png": "[encoded data removed]",
      "text/plain": [
       "<Figure size 432x288 with 2 Axes>"
      ]
     },
     "metadata": {
      "needs_background": "light"
     },
     "output_type": "display_data"
    }
   ],
   "source": [
    "#Re-iterating Logistic regression with best parameter found with Grid Search\n",
    "logreg_tuned=LogisticRegression(penalty='l2',C=1.0,solver='lbfgs') \n",
    "logreg_tuned.fit(X_train, y_train)\n",
    "y_pred = logreg_tuned.predict(X_test)\n",
    "\n",
    "#Finalizing the Accuracy, Classification report and creating heat-map for visulization\n",
    "print(accuracy_score(y_pred, y_test))\n",
    "print(classification_report(y_test, y_pred))\n",
    "sns.heatmap(confusion_matrix(y_test, y_pred), annot=True, cmap='Blues',fmt='d')"
   ]
  },
  {
   "cell_type": "markdown",
   "metadata": {},
   "source": [
    "We can observe few differences in Tuned Logistic Regression model:\n",
    "- Accuracy has improved to 91.2% vs 61.7% in the base model\n",
    "- Both Precision & Recall percentage has significantly improved\n",
    "- Heat-map provide the correct prediction made for the Bankruptcy"
   ]
  },
  {
   "cell_type": "markdown",
   "metadata": {},
   "source": [
    "#### Comparing ROC Curve between the models"
   ]
  },
  {
   "cell_type": "code",
   "execution_count": 42,
   "metadata": {},
   "outputs": [
    {
     "data": {
      "image/png": "[encoded data removed]",
      "text/plain": [
       "<Figure size 2160x720 with 2 Axes>"
      ]
     },
     "metadata": {
      "needs_background": "light"
     },
     "output_type": "display_data"
    }
   ],
   "source": [
    "fig, (ax1, ax2) = plt.subplots(1, 2, figsize=(30,10))\n",
    "y_pred_prob = logreg.predict_proba(X_test)[:,1]\n",
    "fpr, tpr, thresholds = roc_curve(y_test, y_pred_prob)\n",
    "ax1.plot([0,1],[0,1], 'r--')\n",
    "ax1.plot(fpr,tpr,label='Logistic Regression')\n",
    "ax1.set_xlabel('False Positive Rate',fontsize=15)\n",
    "ax1.set_ylabel('True Positive Rate',fontsize=15)\n",
    "ax1.set_title('Logistic Regression (Base) ROC Curve',fontsize=20)\n",
    "\n",
    "y_pred_logtune = logreg_tuned.predict_proba(X_test)[:,1]\n",
    "hp_fpr, hp_tpr, hp_thresholds =roc_curve(y_test, y_pred_logtune)\n",
    "ax2.plot([0,1],[0,1], 'r--')\n",
    "ax2.plot(hp_fpr,hp_tpr,label='Logistic Regression')\n",
    "ax2.set_xlabel('False Positive Rate',fontsize=15)\n",
    "ax2.set_ylabel('True Positive Rate',fontsize=15)\n",
    "ax2.set_title('Logistic Regression (Hyperparameter tuned) ROC Curve', fontsize=20)\n",
    "plt.show();"
   ]
  },
  {
   "cell_type": "markdown",
   "metadata": {},
   "source": [
    "The above ROC curve graphs of Logistic Regression (Base) vs Logistic Regression (Tuned) models provides significant improvements on True positive rate made by tuning the hyperparameters."
   ]
  },
  {
   "cell_type": "markdown",
   "metadata": {},
   "source": [
    "### Random Forest Classifier\n",
    "\n",
    "For Random Forrest Classifier:\n",
    "- Random Forest Classifier (Base) - I first computed Base Model without SMOTE and scaling on the data\n",
    "- Randomized Search CV/ Grid Search CV  - I approaced 2 steps in finding the optimal parameter for the model. Since Random Forest classifier has numerous hyperparameters to evaluate, I first applied Randomized Search narrow down the optimal parameters to save from computational complexity. Then with the shortend parameters, I applied Grid Search to evalute the best parameters for the model\n",
    "- Random Forest Classifier (Tuned) - Hyperparameter tuned model"
   ]
  },
  {
   "cell_type": "markdown",
   "metadata": {},
   "source": [
    "#### Base Model"
   ]
  },
  {
   "cell_type": "markdown",
   "metadata": {},
   "source": [
    "We will first observe the Random Forest Model without oversampling (SMOTE) and scaling of the data."
   ]
  },
  {
   "cell_type": "code",
   "execution_count": 30,
   "metadata": {},
   "outputs": [],
   "source": [
    "#Training the original X and y Data-set.\n",
    "Xrf_train, Xrf_test, yrf_train, yrf_test = train_test_split(X, y, test_size=0.30, random_state=42)"
   ]
  },
  {
   "cell_type": "code",
   "execution_count": 19,
   "metadata": {},
   "outputs": [
    {
     "data": {
      "text/plain": [
       "RandomForestClassifier()"
      ]
     },
     "execution_count": 19,
     "metadata": {},
     "output_type": "execute_result"
    }
   ],
   "source": [
    "rf_base = RandomForestClassifier()\n",
    "rf_base.fit(Xrf_train, yrf_train)"
   ]
  },
  {
   "cell_type": "code",
   "execution_count": 20,
   "metadata": {},
   "outputs": [
    {
     "name": "stdout",
     "output_type": "stream",
     "text": [
      "Accuracy: 0.9628543499511242\n",
      "              precision    recall  f1-score   support\n",
      "\n",
      "           0       0.97      1.00      0.98      1968\n",
      "           1       0.57      0.10      0.17        78\n",
      "\n",
      "    accuracy                           0.96      2046\n",
      "   macro avg       0.77      0.55      0.58      2046\n",
      "weighted avg       0.95      0.96      0.95      2046\n",
      "\n"
     ]
    }
   ],
   "source": [
    "y_pred_RFC = rf_base.predict(Xrf_test)\n",
    "print('Accuracy:',accuracy_score(y_pred_RFC, yrf_test))\n",
    "print(classification_report(yrf_test, y_pred_RFC))"
   ]
  },
  {
   "cell_type": "markdown",
   "metadata": {},
   "source": [
    "The base model from original data-set show high accuracy of 96.3%. <br> \n",
    "However, on the Precision & Recall on the Bankruptcy class(which presents 57% and 10% respectively), we can observe that the performance of the model on predicting 'Survived' companies is accurate but is not reliable on predicting the 'Bankrupt' companies. Since the goal of the project is accurately predicting on the 'Bankrupt' class, the base model is not an appropriate model to use."
   ]
  },
  {
   "cell_type": "markdown",
   "metadata": {},
   "source": [
    "#### Randomized Search CV"
   ]
  },
  {
   "cell_type": "markdown",
   "metadata": {},
   "source": [
    "Random Forest Classifier has numerous parameters for tuning. Although GridsearchCV function offers accurate results of simplifying the process of selecting best parameter, it will be extremely costly execution both in computing power and time to iterate all the combination of hyperparameter values.\n",
    "Instead, by selecting Randomized search CV function, it allows to explicitly control the number of parameter combinations attempted by selecting best of random combination of hyperparameter values and drastically lowering the run time.<br>\n",
    "\n",
    "The parameter grid is defined:\n",
    "- Estimator: The number of trees to build between 200 to 1000\n",
    "- Combination of max depth of the tree from 10 to 100\n",
    "- Function to measure the quality of a split betweein Gini impurity vs Entropy\n",
    "- Maximum number of feature comparison between Auto(Simply take all the features which make sense in every tree) vs Sqrt(Square root of total number of features in individual run)"
   ]
  },
  {
   "cell_type": "code",
   "execution_count": 8,
   "metadata": {},
   "outputs": [
    {
     "data": {
      "text/plain": [
       "RandomizedSearchCV(cv=3, estimator=RandomForestClassifier(), n_jobs=-1,\n",
       "                   param_distributions={'criterion': ['gini', 'entropy'],\n",
       "                                        'max_depth': [10, 20, 30, 40, 50, 60,\n",
       "                                                      70, 80, 90, 100],\n",
       "                                        'max_features': ['auto', 'sqrt'],\n",
       "                                        'n_estimators': [200, 288, 377, 466,\n",
       "                                                         555, 644, 733, 822,\n",
       "                                                         911, 1000]},\n",
       "                   random_state=42)"
      ]
     },
     "execution_count": 8,
     "metadata": {},
     "output_type": "execute_result"
    }
   ],
   "source": [
    "rf = RandomForestClassifier()\n",
    "#Defining array of arbitary numeric parameter and depth of each tree\n",
    "estimators = [int(x) for x in np.linspace(start=200, stop=1000, num=10)]\n",
    "depth = [int(x) for x in np.linspace(10, 100, num=10)]\n",
    "\n",
    "#Setting parameters \n",
    "param = {\n",
    "    'n_estimators': estimators,\n",
    "    'max_depth': depth,\n",
    "    'criterion': ['gini','entropy'],\n",
    "    'max_features':['auto','sqrt']    \n",
    "}\n",
    "#Iterating Randomized Search\n",
    "rf_random = RandomizedSearchCV(estimator=rf, param_distributions=param, cv=3, random_state=42, n_jobs=-1)\n",
    "rf_random.fit(X_train, y_train)"
   ]
  },
  {
   "cell_type": "code",
   "execution_count": 10,
   "metadata": {},
   "outputs": [
    {
     "data": {
      "text/plain": [
       "RandomForestClassifier(max_depth=50, n_estimators=555)"
      ]
     },
     "execution_count": 10,
     "metadata": {},
     "output_type": "execute_result"
    }
   ],
   "source": [
    "rf_random.best_estimator_"
   ]
  },
  {
   "cell_type": "code",
   "execution_count": 12,
   "metadata": {
    "scrolled": true
   },
   "outputs": [
    {
     "name": "stdout",
     "output_type": "stream",
     "text": [
      "Best: 0.970123 using {'n_estimators': 555, 'max_features': 'auto', 'max_depth': 50, 'criterion': 'gini'}\n"
     ]
    }
   ],
   "source": [
    "print(\"Best: %f using %s\" % (rf_random.best_score_, rf_random.best_params_))"
   ]
  },
  {
   "cell_type": "markdown",
   "metadata": {},
   "source": [
    "The best parameter defined by the search is with estimator of 555,tree max depth of 50, Gini impurity and Auto option of maximum number of feature."
   ]
  },
  {
   "cell_type": "code",
   "execution_count": 14,
   "metadata": {},
   "outputs": [
    {
     "name": "stdout",
     "output_type": "stream",
     "text": [
      "0.9785353535353535\n"
     ]
    }
   ],
   "source": [
    "rfc1 = RandomForestClassifier(n_estimators=555, max_features='auto', max_depth=50, criterion='gini', random_state=42)\n",
    "rfc1.fit(X_train, y_train)\n",
    "y_pred_rfc1 = rfc1.predict(X_test)\n",
    "print(accuracy_score(y_pred_rfc1, y_test))"
   ]
  },
  {
   "cell_type": "markdown",
   "metadata": {},
   "source": [
    "The accuracy score depicted from the best parameter searched from the random search CV is 97.9%"
   ]
  },
  {
   "cell_type": "code",
   "execution_count": 20,
   "metadata": {},
   "outputs": [
    {
     "name": "stdout",
     "output_type": "stream",
     "text": [
      "              precision    recall  f1-score   support\n",
      "\n",
      "           0       1.00      0.96      0.98      2005\n",
      "           1       0.96      1.00      0.98      1955\n",
      "\n",
      "    accuracy                           0.98      3960\n",
      "   macro avg       0.98      0.98      0.98      3960\n",
      "weighted avg       0.98      0.98      0.98      3960\n",
      "\n"
     ]
    }
   ],
   "source": [
    "print(classification_report(y_test, y_pred_rfc1))"
   ]
  },
  {
   "cell_type": "markdown",
   "metadata": {},
   "source": [
    "#### Ranking the test scores"
   ]
  },
  {
   "cell_type": "code",
   "execution_count": 13,
   "metadata": {},
   "outputs": [
    {
     "data": {
      "text/html": [
       "<div>\n",
       "<style scoped>\n",
       "    .dataframe tbody tr th:only-of-type {\n",
       "        vertical-align: middle;\n",
       "    }\n",
       "\n",
       "    .dataframe tbody tr th {\n",
       "        vertical-align: top;\n",
       "    }\n",
       "\n",
       "    .dataframe thead th {\n",
       "        text-align: right;\n",
       "    }\n",
       "</style>\n",
       "<table border=\"1\" class=\"dataframe\">\n",
       "  <thead>\n",
       "    <tr style=\"text-align: right;\">\n",
       "      <th></th>\n",
       "      <th>mean_fit_time</th>\n",
       "      <th>std_fit_time</th>\n",
       "      <th>mean_score_time</th>\n",
       "      <th>std_score_time</th>\n",
       "      <th>param_n_estimators</th>\n",
       "      <th>param_max_features</th>\n",
       "      <th>param_max_depth</th>\n",
       "      <th>param_criterion</th>\n",
       "      <th>params</th>\n",
       "      <th>split0_test_score</th>\n",
       "      <th>split1_test_score</th>\n",
       "      <th>split2_test_score</th>\n",
       "      <th>mean_test_score</th>\n",
       "      <th>std_test_score</th>\n",
       "    </tr>\n",
       "    <tr>\n",
       "      <th>rank_test_score</th>\n",
       "      <th></th>\n",
       "      <th></th>\n",
       "      <th></th>\n",
       "      <th></th>\n",
       "      <th></th>\n",
       "      <th></th>\n",
       "      <th></th>\n",
       "      <th></th>\n",
       "      <th></th>\n",
       "      <th></th>\n",
       "      <th></th>\n",
       "      <th></th>\n",
       "      <th></th>\n",
       "      <th></th>\n",
       "    </tr>\n",
       "  </thead>\n",
       "  <tbody>\n",
       "    <tr>\n",
       "      <th>1</th>\n",
       "      <td>30.731771</td>\n",
       "      <td>0.980944</td>\n",
       "      <td>0.435334</td>\n",
       "      <td>0.005313</td>\n",
       "      <td>555</td>\n",
       "      <td>auto</td>\n",
       "      <td>50</td>\n",
       "      <td>gini</td>\n",
       "      <td>{'n_estimators': 555, 'max_features': 'auto', ...</td>\n",
       "      <td>0.972403</td>\n",
       "      <td>0.964274</td>\n",
       "      <td>0.973693</td>\n",
       "      <td>0.970123</td>\n",
       "      <td>0.004169</td>\n",
       "    </tr>\n",
       "    <tr>\n",
       "      <th>2</th>\n",
       "      <td>33.543887</td>\n",
       "      <td>1.532408</td>\n",
       "      <td>0.488334</td>\n",
       "      <td>0.033865</td>\n",
       "      <td>555</td>\n",
       "      <td>sqrt</td>\n",
       "      <td>50</td>\n",
       "      <td>gini</td>\n",
       "      <td>{'n_estimators': 555, 'max_features': 'sqrt', ...</td>\n",
       "      <td>0.971104</td>\n",
       "      <td>0.965248</td>\n",
       "      <td>0.973693</td>\n",
       "      <td>0.970015</td>\n",
       "      <td>0.003532</td>\n",
       "    </tr>\n",
       "    <tr>\n",
       "      <th>3</th>\n",
       "      <td>26.455957</td>\n",
       "      <td>0.246322</td>\n",
       "      <td>0.363333</td>\n",
       "      <td>0.006945</td>\n",
       "      <td>466</td>\n",
       "      <td>sqrt</td>\n",
       "      <td>50</td>\n",
       "      <td>gini</td>\n",
       "      <td>{'n_estimators': 466, 'max_features': 'sqrt', ...</td>\n",
       "      <td>0.971429</td>\n",
       "      <td>0.963625</td>\n",
       "      <td>0.974992</td>\n",
       "      <td>0.970015</td>\n",
       "      <td>0.004747</td>\n",
       "    </tr>\n",
       "    <tr>\n",
       "      <th>4</th>\n",
       "      <td>40.729141</td>\n",
       "      <td>0.314030</td>\n",
       "      <td>0.489665</td>\n",
       "      <td>0.021642</td>\n",
       "      <td>733</td>\n",
       "      <td>auto</td>\n",
       "      <td>70</td>\n",
       "      <td>gini</td>\n",
       "      <td>{'n_estimators': 733, 'max_features': 'auto', ...</td>\n",
       "      <td>0.971104</td>\n",
       "      <td>0.964274</td>\n",
       "      <td>0.974342</td>\n",
       "      <td>0.969907</td>\n",
       "      <td>0.004197</td>\n",
       "    </tr>\n",
       "    <tr>\n",
       "      <th>5</th>\n",
       "      <td>30.343781</td>\n",
       "      <td>0.969560</td>\n",
       "      <td>0.392333</td>\n",
       "      <td>0.036059</td>\n",
       "      <td>466</td>\n",
       "      <td>sqrt</td>\n",
       "      <td>20</td>\n",
       "      <td>gini</td>\n",
       "      <td>{'n_estimators': 466, 'max_features': 'sqrt', ...</td>\n",
       "      <td>0.971753</td>\n",
       "      <td>0.962325</td>\n",
       "      <td>0.974342</td>\n",
       "      <td>0.969474</td>\n",
       "      <td>0.005164</td>\n",
       "    </tr>\n",
       "    <tr>\n",
       "      <th>6</th>\n",
       "      <td>72.001199</td>\n",
       "      <td>1.630633</td>\n",
       "      <td>0.773375</td>\n",
       "      <td>0.107397</td>\n",
       "      <td>1000</td>\n",
       "      <td>auto</td>\n",
       "      <td>70</td>\n",
       "      <td>entropy</td>\n",
       "      <td>{'n_estimators': 1000, 'max_features': 'auto',...</td>\n",
       "      <td>0.972403</td>\n",
       "      <td>0.962975</td>\n",
       "      <td>0.972394</td>\n",
       "      <td>0.969257</td>\n",
       "      <td>0.004442</td>\n",
       "    </tr>\n",
       "    <tr>\n",
       "      <th>7</th>\n",
       "      <td>52.865824</td>\n",
       "      <td>0.797367</td>\n",
       "      <td>0.554000</td>\n",
       "      <td>0.037480</td>\n",
       "      <td>733</td>\n",
       "      <td>auto</td>\n",
       "      <td>40</td>\n",
       "      <td>entropy</td>\n",
       "      <td>{'n_estimators': 733, 'max_features': 'auto', ...</td>\n",
       "      <td>0.971429</td>\n",
       "      <td>0.962325</td>\n",
       "      <td>0.972069</td>\n",
       "      <td>0.968608</td>\n",
       "      <td>0.004450</td>\n",
       "    </tr>\n",
       "    <tr>\n",
       "      <th>8</th>\n",
       "      <td>13.988406</td>\n",
       "      <td>0.209135</td>\n",
       "      <td>0.173334</td>\n",
       "      <td>0.021172</td>\n",
       "      <td>200</td>\n",
       "      <td>auto</td>\n",
       "      <td>50</td>\n",
       "      <td>entropy</td>\n",
       "      <td>{'n_estimators': 200, 'max_features': 'auto', ...</td>\n",
       "      <td>0.969156</td>\n",
       "      <td>0.962975</td>\n",
       "      <td>0.972069</td>\n",
       "      <td>0.968067</td>\n",
       "      <td>0.003792</td>\n",
       "    </tr>\n",
       "    <tr>\n",
       "      <th>9</th>\n",
       "      <td>12.739333</td>\n",
       "      <td>0.116853</td>\n",
       "      <td>0.134667</td>\n",
       "      <td>0.003300</td>\n",
       "      <td>200</td>\n",
       "      <td>sqrt</td>\n",
       "      <td>10</td>\n",
       "      <td>entropy</td>\n",
       "      <td>{'n_estimators': 200, 'max_features': 'sqrt', ...</td>\n",
       "      <td>0.965909</td>\n",
       "      <td>0.956804</td>\n",
       "      <td>0.968821</td>\n",
       "      <td>0.963845</td>\n",
       "      <td>0.005118</td>\n",
       "    </tr>\n",
       "    <tr>\n",
       "      <th>10</th>\n",
       "      <td>69.438691</td>\n",
       "      <td>0.777135</td>\n",
       "      <td>0.696679</td>\n",
       "      <td>0.007056</td>\n",
       "      <td>1000</td>\n",
       "      <td>auto</td>\n",
       "      <td>10</td>\n",
       "      <td>entropy</td>\n",
       "      <td>{'n_estimators': 1000, 'max_features': 'auto',...</td>\n",
       "      <td>0.966234</td>\n",
       "      <td>0.957778</td>\n",
       "      <td>0.965898</td>\n",
       "      <td>0.963303</td>\n",
       "      <td>0.003909</td>\n",
       "    </tr>\n",
       "  </tbody>\n",
       "</table>\n",
       "</div>"
      ],
      "text/plain": [
       "                 mean_fit_time  std_fit_time  mean_score_time  std_score_time  \\\n",
       "rank_test_score                                                                 \n",
       "1                    30.731771      0.980944         0.435334        0.005313   \n",
       "2                    33.543887      1.532408         0.488334        0.033865   \n",
       "3                    26.455957      0.246322         0.363333        0.006945   \n",
       "4                    40.729141      0.314030         0.489665        0.021642   \n",
       "5                    30.343781      0.969560         0.392333        0.036059   \n",
       "6                    72.001199      1.630633         0.773375        0.107397   \n",
       "7                    52.865824      0.797367         0.554000        0.037480   \n",
       "8                    13.988406      0.209135         0.173334        0.021172   \n",
       "9                    12.739333      0.116853         0.134667        0.003300   \n",
       "10                   69.438691      0.777135         0.696679        0.007056   \n",
       "\n",
       "                param_n_estimators param_max_features param_max_depth  \\\n",
       "rank_test_score                                                         \n",
       "1                              555               auto              50   \n",
       "2                              555               sqrt              50   \n",
       "3                              466               sqrt              50   \n",
       "4                              733               auto              70   \n",
       "5                              466               sqrt              20   \n",
       "6                             1000               auto              70   \n",
       "7                              733               auto              40   \n",
       "8                              200               auto              50   \n",
       "9                              200               sqrt              10   \n",
       "10                            1000               auto              10   \n",
       "\n",
       "                param_criterion  \\\n",
       "rank_test_score                   \n",
       "1                          gini   \n",
       "2                          gini   \n",
       "3                          gini   \n",
       "4                          gini   \n",
       "5                          gini   \n",
       "6                       entropy   \n",
       "7                       entropy   \n",
       "8                       entropy   \n",
       "9                       entropy   \n",
       "10                      entropy   \n",
       "\n",
       "                                                            params  \\\n",
       "rank_test_score                                                      \n",
       "1                {'n_estimators': 555, 'max_features': 'auto', ...   \n",
       "2                {'n_estimators': 555, 'max_features': 'sqrt', ...   \n",
       "3                {'n_estimators': 466, 'max_features': 'sqrt', ...   \n",
       "4                {'n_estimators': 733, 'max_features': 'auto', ...   \n",
       "5                {'n_estimators': 466, 'max_features': 'sqrt', ...   \n",
       "6                {'n_estimators': 1000, 'max_features': 'auto',...   \n",
       "7                {'n_estimators': 733, 'max_features': 'auto', ...   \n",
       "8                {'n_estimators': 200, 'max_features': 'auto', ...   \n",
       "9                {'n_estimators': 200, 'max_features': 'sqrt', ...   \n",
       "10               {'n_estimators': 1000, 'max_features': 'auto',...   \n",
       "\n",
       "                 split0_test_score  split1_test_score  split2_test_score  \\\n",
       "rank_test_score                                                            \n",
       "1                         0.972403           0.964274           0.973693   \n",
       "2                         0.971104           0.965248           0.973693   \n",
       "3                         0.971429           0.963625           0.974992   \n",
       "4                         0.971104           0.964274           0.974342   \n",
       "5                         0.971753           0.962325           0.974342   \n",
       "6                         0.972403           0.962975           0.972394   \n",
       "7                         0.971429           0.962325           0.972069   \n",
       "8                         0.969156           0.962975           0.972069   \n",
       "9                         0.965909           0.956804           0.968821   \n",
       "10                        0.966234           0.957778           0.965898   \n",
       "\n",
       "                 mean_test_score  std_test_score  \n",
       "rank_test_score                                   \n",
       "1                       0.970123        0.004169  \n",
       "2                       0.970015        0.003532  \n",
       "3                       0.970015        0.004747  \n",
       "4                       0.969907        0.004197  \n",
       "5                       0.969474        0.005164  \n",
       "6                       0.969257        0.004442  \n",
       "7                       0.968608        0.004450  \n",
       "8                       0.968067        0.003792  \n",
       "9                       0.963845        0.005118  \n",
       "10                      0.963303        0.003909  "
      ]
     },
     "execution_count": 13,
     "metadata": {},
     "output_type": "execute_result"
    }
   ],
   "source": [
    "#Setting cross validation results into Dataframe and setting sorting through the rank scores\n",
    "df = pd.DataFrame(rf_random.cv_results_)\n",
    "df = df.set_index('rank_test_score')\n",
    "df.sort_index()"
   ]
  },
  {
   "cell_type": "markdown",
   "metadata": {},
   "source": [
    "The above table represents the rank of the each combination of the random hyperparameter values defined by the randomized search by their test scores. <br>\n",
    "By observing the first 5 rankings, we can narrow down that the best scores are performed from:\n",
    "- Estimators between 400 to 700\n",
    "- Max tree depth between 20,50 and 70\n",
    "- Gini impurity is dominant in the rankings\n",
    "- Auto will be used for the max feature"
   ]
  },
  {
   "cell_type": "markdown",
   "metadata": {},
   "source": [
    "#### GridSearchCV\n",
    "\n",
    "With the narrowed down list of the hyperparameter values, we can iterate through GridSearchCV to search for better performing parameters."
   ]
  },
  {
   "cell_type": "code",
   "execution_count": 28,
   "metadata": {},
   "outputs": [
    {
     "data": {
      "text/plain": [
       "GridSearchCV(cv=3, estimator=RandomForestClassifier(random_state=42), n_jobs=-1,\n",
       "             param_grid={'criterion': ['gini'], 'max_depth': [20, 50, 70],\n",
       "                         'max_features': ['auto'],\n",
       "                         'n_estimators': [400, 500, 600, 700]})"
      ]
     },
     "execution_count": 28,
     "metadata": {},
     "output_type": "execute_result"
    }
   ],
   "source": [
    "#Setting the parameter grid with the narrowed down values\n",
    "param = {\n",
    "    'n_estimators': [400,500,600,700],\n",
    "    'max_depth': [20,50,70],\n",
    "    'criterion': ['gini'],\n",
    "    'max_features':['auto']    \n",
    "}\n",
    "rfg = RandomForestClassifier(random_state=42)\n",
    "rf_grid = GridSearchCV(estimator=rfg, param_grid=param, cv=3, n_jobs=-1)\n",
    "rf_grid.fit(X_train, y_train)"
   ]
  },
  {
   "cell_type": "code",
   "execution_count": 27,
   "metadata": {},
   "outputs": [
    {
     "data": {
      "text/plain": [
       "{'criterion': 'gini',\n",
       " 'max_depth': 50,\n",
       " 'max_features': 'auto',\n",
       " 'n_estimators': 500}"
      ]
     },
     "execution_count": 27,
     "metadata": {},
     "output_type": "execute_result"
    }
   ],
   "source": [
    "rf_grid.best_params_"
   ]
  },
  {
   "cell_type": "markdown",
   "metadata": {},
   "source": [
    "The parameter defined through Grid Search does not seems to have significant difference from parameters defined by Random Search"
   ]
  },
  {
   "cell_type": "code",
   "execution_count": 24,
   "metadata": {},
   "outputs": [],
   "source": [
    "#Re-iterating the Random Forest Classifier with Grid Search defined parameters\n",
    "rfc2 = RandomForestClassifier(n_estimators=500, max_features='auto', max_depth=50, criterion='gini', random_state=42)\n",
    "rfc2.fit(X_train, y_train)\n",
    "pred_g = rfc2.predict(X_test)"
   ]
  },
  {
   "cell_type": "code",
   "execution_count": 25,
   "metadata": {},
   "outputs": [
    {
     "name": "stdout",
     "output_type": "stream",
     "text": [
      "0.9782828282828283\n",
      "              precision    recall  f1-score   support\n",
      "\n",
      "           0       1.00      0.96      0.98      2005\n",
      "           1       0.96      1.00      0.98      1955\n",
      "\n",
      "    accuracy                           0.98      3960\n",
      "   macro avg       0.98      0.98      0.98      3960\n",
      "weighted avg       0.98      0.98      0.98      3960\n",
      "\n"
     ]
    },
    {
     "data": {
      "text/plain": [
       "<AxesSubplot:>"
      ]
     },
     "execution_count": 25,
     "metadata": {},
     "output_type": "execute_result"
    },
    {
     "data": {
      "image/png": "[encoded data removed]",
      "text/plain": [
       "<Figure size 432x288 with 2 Axes>"
      ]
     },
     "metadata": {
      "needs_background": "light"
     },
     "output_type": "display_data"
    }
   ],
   "source": [
    "print(accuracy_score(pred_g, y_test))\n",
    "print(classification_report(y_test, pred_g))\n",
    "sns.heatmap(confusion_matrix(y_test, pred_g), annot=True, cmap='Blues',fmt='d')"
   ]
  },
  {
   "cell_type": "markdown",
   "metadata": {},
   "source": [
    "The Accuracy, Precision and Recall scores are exact to the above Randomized Search defined parameters. This concludes that narrowing down the hyperparameter is unnecessary and finalized values from the first search can be applied for the Random Forest Classfication"
   ]
  },
  {
   "cell_type": "markdown",
   "metadata": {},
   "source": [
    "### Support Vector Machine\n",
    "\n",
    "I have applied similar steps from Random Forest Classification to the Support Vector Machine:\n",
    "\n",
    "Support Vector Machine (Base) - I first computed Base Model without SMOTE and scaling on the data\n",
    "Grid Search CV - I applied Grid Search to evalute the best parameters for the model\n",
    "Support Vector Machine (Tuned) - Hyperparameter tuned model"
   ]
  },
  {
   "cell_type": "markdown",
   "metadata": {},
   "source": [
    "#### Base Model"
   ]
  },
  {
   "cell_type": "code",
   "execution_count": 31,
   "metadata": {},
   "outputs": [],
   "source": [
    "#Applying data with out oversampling and scaling\n",
    "SVM_base = SVC()\n",
    "SVM_base.fit(Xrf_train, yrf_train)\n",
    "y_pred_svmb = SVM_base.predict(Xrf_test)"
   ]
  },
  {
   "cell_type": "code",
   "execution_count": 32,
   "metadata": {},
   "outputs": [
    {
     "name": "stdout",
     "output_type": "stream",
     "text": [
      "0.9618768328445748\n",
      "              precision    recall  f1-score   support\n",
      "\n",
      "           0       0.96      1.00      0.98      1968\n",
      "           1       0.00      0.00      0.00        78\n",
      "\n",
      "    accuracy                           0.96      2046\n",
      "   macro avg       0.48      0.50      0.49      2046\n",
      "weighted avg       0.93      0.96      0.94      2046\n",
      "\n"
     ]
    }
   ],
   "source": [
    "print(accuracy_score(y_pred_svmb, yrf_test))\n",
    "print(classification_report(yrf_test, y_pred_svmb))"
   ]
  },
  {
   "cell_type": "markdown",
   "metadata": {},
   "source": [
    "The results for the SVM base model presents very similar pattern to the Random Forest Classification. Again, the outcome of the accuracy score is very high however, we have 0% for both Precision and Recall scores. <br>\n",
    "The result is worse than the previous models. This indicates that this base model could not perform a single case of bankrupt class."
   ]
  },
  {
   "cell_type": "markdown",
   "metadata": {},
   "source": [
    "#### GridSearchCV"
   ]
  },
  {
   "cell_type": "markdown",
   "metadata": {},
   "source": [
    "The parameter grid is defined: \n",
    "- To find inverse of regularization strength(C) from 0.1-100.\n",
    "- Gamma, 'spread' of the kernel from 0.001 to 1\n",
    "- I used Radian Basis Function as kernel to specify the gamma parameter"
   ]
  },
  {
   "cell_type": "code",
   "execution_count": 33,
   "metadata": {},
   "outputs": [
    {
     "name": "stdout",
     "output_type": "stream",
     "text": [
      "Fitting 5 folds for each of 16 candidates, totalling 80 fits\n",
      "[CV] C=0.1, gamma=1, kernel=rbf ......................................\n"
     ]
    },
    {
     "name": "stderr",
     "output_type": "stream",
     "text": [
      "[Parallel(n_jobs=1)]: Using backend SequentialBackend with 1 concurrent workers.\n"
     ]
    },
    {
     "name": "stdout",
     "output_type": "stream",
     "text": [
      "[CV] .......... C=0.1, gamma=1, kernel=rbf, score=0.503, total=  12.1s\n",
      "[CV] C=0.1, gamma=1, kernel=rbf ......................................\n"
     ]
    },
    {
     "name": "stderr",
     "output_type": "stream",
     "text": [
      "[Parallel(n_jobs=1)]: Done   1 out of   1 | elapsed:   12.0s remaining:    0.0s\n"
     ]
    },
    {
     "name": "stdout",
     "output_type": "stream",
     "text": [
      "[CV] .......... C=0.1, gamma=1, kernel=rbf, score=0.503, total=  12.1s\n",
      "[CV] C=0.1, gamma=1, kernel=rbf ......................................\n"
     ]
    },
    {
     "name": "stderr",
     "output_type": "stream",
     "text": [
      "[Parallel(n_jobs=1)]: Done   2 out of   2 | elapsed:   24.1s remaining:    0.0s\n"
     ]
    },
    {
     "name": "stdout",
     "output_type": "stream",
     "text": [
      "[CV] .......... C=0.1, gamma=1, kernel=rbf, score=0.511, total=  12.0s\n",
      "[CV] C=0.1, gamma=1, kernel=rbf ......................................\n",
      "[CV] .......... C=0.1, gamma=1, kernel=rbf, score=0.503, total=  12.1s\n",
      "[CV] C=0.1, gamma=1, kernel=rbf ......................................\n",
      "[CV] .......... C=0.1, gamma=1, kernel=rbf, score=0.503, total=  12.2s\n",
      "[CV] C=0.1, gamma=0.1, kernel=rbf ....................................\n",
      "[CV] ........ C=0.1, gamma=0.1, kernel=rbf, score=0.915, total=   8.1s\n",
      "[CV] C=0.1, gamma=0.1, kernel=rbf ....................................\n",
      "[CV] ........ C=0.1, gamma=0.1, kernel=rbf, score=0.919, total=   8.3s\n",
      "[CV] C=0.1, gamma=0.1, kernel=rbf ....................................\n",
      "[CV] ........ C=0.1, gamma=0.1, kernel=rbf, score=0.916, total=   8.2s\n",
      "[CV] C=0.1, gamma=0.1, kernel=rbf ....................................\n",
      "[CV] ........ C=0.1, gamma=0.1, kernel=rbf, score=0.923, total=   8.3s\n",
      "[CV] C=0.1, gamma=0.1, kernel=rbf ....................................\n",
      "[CV] ........ C=0.1, gamma=0.1, kernel=rbf, score=0.916, total=   8.1s\n",
      "[CV] C=0.1, gamma=0.01, kernel=rbf ...................................\n",
      "[CV] ....... C=0.1, gamma=0.01, kernel=rbf, score=0.910, total=   4.8s\n",
      "[CV] C=0.1, gamma=0.01, kernel=rbf ...................................\n",
      "[CV] ....... C=0.1, gamma=0.01, kernel=rbf, score=0.911, total=   4.9s\n",
      "[CV] C=0.1, gamma=0.01, kernel=rbf ...................................\n",
      "[CV] ....... C=0.1, gamma=0.01, kernel=rbf, score=0.903, total=   4.7s\n",
      "[CV] C=0.1, gamma=0.01, kernel=rbf ...................................\n",
      "[CV] ....... C=0.1, gamma=0.01, kernel=rbf, score=0.904, total=   4.8s\n",
      "[CV] C=0.1, gamma=0.01, kernel=rbf ...................................\n",
      "[CV] ....... C=0.1, gamma=0.01, kernel=rbf, score=0.914, total=   4.8s\n",
      "[CV] C=0.1, gamma=0.001, kernel=rbf ..................................\n",
      "[CV] ...... C=0.1, gamma=0.001, kernel=rbf, score=0.893, total=   6.2s\n",
      "[CV] C=0.1, gamma=0.001, kernel=rbf ..................................\n",
      "[CV] ...... C=0.1, gamma=0.001, kernel=rbf, score=0.898, total=   6.4s\n",
      "[CV] C=0.1, gamma=0.001, kernel=rbf ..................................\n",
      "[CV] ...... C=0.1, gamma=0.001, kernel=rbf, score=0.886, total=   6.1s\n",
      "[CV] C=0.1, gamma=0.001, kernel=rbf ..................................\n",
      "[CV] ...... C=0.1, gamma=0.001, kernel=rbf, score=0.887, total=   6.1s\n",
      "[CV] C=0.1, gamma=0.001, kernel=rbf ..................................\n",
      "[CV] ...... C=0.1, gamma=0.001, kernel=rbf, score=0.893, total=   6.2s\n",
      "[CV] C=1, gamma=1, kernel=rbf ........................................\n",
      "[CV] ............ C=1, gamma=1, kernel=rbf, score=0.909, total=  13.7s\n",
      "[CV] C=1, gamma=1, kernel=rbf ........................................\n",
      "[CV] ............ C=1, gamma=1, kernel=rbf, score=0.899, total=  13.9s\n",
      "[CV] C=1, gamma=1, kernel=rbf ........................................\n",
      "[CV] ............ C=1, gamma=1, kernel=rbf, score=0.911, total=  15.1s\n",
      "[CV] C=1, gamma=1, kernel=rbf ........................................\n",
      "[CV] ............ C=1, gamma=1, kernel=rbf, score=0.915, total=  13.6s\n",
      "[CV] C=1, gamma=1, kernel=rbf ........................................\n",
      "[CV] ............ C=1, gamma=1, kernel=rbf, score=0.900, total=  13.3s\n",
      "[CV] C=1, gamma=0.1, kernel=rbf ......................................\n",
      "[CV] .......... C=1, gamma=0.1, kernel=rbf, score=0.981, total=   5.7s\n",
      "[CV] C=1, gamma=0.1, kernel=rbf ......................................\n",
      "[CV] .......... C=1, gamma=0.1, kernel=rbf, score=0.978, total=   5.6s\n",
      "[CV] C=1, gamma=0.1, kernel=rbf ......................................\n",
      "[CV] .......... C=1, gamma=0.1, kernel=rbf, score=0.978, total=   5.7s\n",
      "[CV] C=1, gamma=0.1, kernel=rbf ......................................\n",
      "[CV] .......... C=1, gamma=0.1, kernel=rbf, score=0.985, total=   5.7s\n",
      "[CV] C=1, gamma=0.1, kernel=rbf ......................................\n",
      "[CV] .......... C=1, gamma=0.1, kernel=rbf, score=0.981, total=   5.6s\n",
      "[CV] C=1, gamma=0.01, kernel=rbf .....................................\n",
      "[CV] ......... C=1, gamma=0.01, kernel=rbf, score=0.942, total=   3.4s\n",
      "[CV] C=1, gamma=0.01, kernel=rbf .....................................\n",
      "[CV] ......... C=1, gamma=0.01, kernel=rbf, score=0.949, total=   3.4s\n",
      "[CV] C=1, gamma=0.01, kernel=rbf .....................................\n",
      "[CV] ......... C=1, gamma=0.01, kernel=rbf, score=0.938, total=   3.3s\n",
      "[CV] C=1, gamma=0.01, kernel=rbf .....................................\n",
      "[CV] ......... C=1, gamma=0.01, kernel=rbf, score=0.946, total=   3.4s\n",
      "[CV] C=1, gamma=0.01, kernel=rbf .....................................\n",
      "[CV] ......... C=1, gamma=0.01, kernel=rbf, score=0.951, total=   3.5s\n",
      "[CV] C=1, gamma=0.001, kernel=rbf ....................................\n",
      "[CV] ........ C=1, gamma=0.001, kernel=rbf, score=0.902, total=   4.6s\n",
      "[CV] C=1, gamma=0.001, kernel=rbf ....................................\n",
      "[CV] ........ C=1, gamma=0.001, kernel=rbf, score=0.909, total=   4.5s\n",
      "[CV] C=1, gamma=0.001, kernel=rbf ....................................\n",
      "[CV] ........ C=1, gamma=0.001, kernel=rbf, score=0.900, total=   4.8s\n",
      "[CV] C=1, gamma=0.001, kernel=rbf ....................................\n",
      "[CV] ........ C=1, gamma=0.001, kernel=rbf, score=0.900, total=   5.9s\n",
      "[CV] C=1, gamma=0.001, kernel=rbf ....................................\n",
      "[CV] ........ C=1, gamma=0.001, kernel=rbf, score=0.911, total=   4.7s\n",
      "[CV] C=10, gamma=1, kernel=rbf .......................................\n",
      "[CV] ........... C=10, gamma=1, kernel=rbf, score=0.921, total=  17.1s\n",
      "[CV] C=10, gamma=1, kernel=rbf .......................................\n",
      "[CV] ........... C=10, gamma=1, kernel=rbf, score=0.909, total=  13.9s\n",
      "[CV] C=10, gamma=1, kernel=rbf .......................................\n",
      "[CV] ........... C=10, gamma=1, kernel=rbf, score=0.919, total=  14.0s\n",
      "[CV] C=10, gamma=1, kernel=rbf .......................................\n",
      "[CV] ........... C=10, gamma=1, kernel=rbf, score=0.923, total=  14.8s\n",
      "[CV] C=10, gamma=1, kernel=rbf .......................................\n",
      "[CV] ........... C=10, gamma=1, kernel=rbf, score=0.905, total=  14.6s\n",
      "[CV] C=10, gamma=0.1, kernel=rbf .....................................\n",
      "[CV] ......... C=10, gamma=0.1, kernel=rbf, score=0.986, total=   5.6s\n",
      "[CV] C=10, gamma=0.1, kernel=rbf .....................................\n",
      "[CV] ......... C=10, gamma=0.1, kernel=rbf, score=0.982, total=   5.4s\n",
      "[CV] C=10, gamma=0.1, kernel=rbf .....................................\n",
      "[CV] ......... C=10, gamma=0.1, kernel=rbf, score=0.982, total=   5.5s\n",
      "[CV] C=10, gamma=0.1, kernel=rbf .....................................\n",
      "[CV] ......... C=10, gamma=0.1, kernel=rbf, score=0.986, total=   5.6s\n",
      "[CV] C=10, gamma=0.1, kernel=rbf .....................................\n",
      "[CV] ......... C=10, gamma=0.1, kernel=rbf, score=0.984, total=   5.6s\n",
      "[CV] C=10, gamma=0.01, kernel=rbf ....................................\n",
      "[CV] ........ C=10, gamma=0.01, kernel=rbf, score=0.965, total=   2.6s\n",
      "[CV] C=10, gamma=0.01, kernel=rbf ....................................\n",
      "[CV] ........ C=10, gamma=0.01, kernel=rbf, score=0.977, total=   2.8s\n",
      "[CV] C=10, gamma=0.01, kernel=rbf ....................................\n",
      "[CV] ........ C=10, gamma=0.01, kernel=rbf, score=0.965, total=   2.6s\n",
      "[CV] C=10, gamma=0.01, kernel=rbf ....................................\n",
      "[CV] ........ C=10, gamma=0.01, kernel=rbf, score=0.975, total=   2.7s\n",
      "[CV] C=10, gamma=0.01, kernel=rbf ....................................\n",
      "[CV] ........ C=10, gamma=0.01, kernel=rbf, score=0.976, total=   2.7s\n",
      "[CV] C=10, gamma=0.001, kernel=rbf ...................................\n",
      "[CV] ....... C=10, gamma=0.001, kernel=rbf, score=0.920, total=   3.4s\n",
      "[CV] C=10, gamma=0.001, kernel=rbf ...................................\n",
      "[CV] ....... C=10, gamma=0.001, kernel=rbf, score=0.916, total=   3.5s\n",
      "[CV] C=10, gamma=0.001, kernel=rbf ...................................\n",
      "[CV] ....... C=10, gamma=0.001, kernel=rbf, score=0.915, total=   3.4s\n",
      "[CV] C=10, gamma=0.001, kernel=rbf ...................................\n",
      "[CV] ....... C=10, gamma=0.001, kernel=rbf, score=0.916, total=   3.4s\n",
      "[CV] C=10, gamma=0.001, kernel=rbf ...................................\n",
      "[CV] ....... C=10, gamma=0.001, kernel=rbf, score=0.924, total=   3.5s\n",
      "[CV] C=100, gamma=1, kernel=rbf ......................................\n"
     ]
    },
    {
     "name": "stdout",
     "output_type": "stream",
     "text": [
      "[CV] .......... C=100, gamma=1, kernel=rbf, score=0.921, total=  14.8s\n",
      "[CV] C=100, gamma=1, kernel=rbf ......................................\n",
      "[CV] .......... C=100, gamma=1, kernel=rbf, score=0.909, total=  14.7s\n",
      "[CV] C=100, gamma=1, kernel=rbf ......................................\n",
      "[CV] .......... C=100, gamma=1, kernel=rbf, score=0.919, total=  14.4s\n",
      "[CV] C=100, gamma=1, kernel=rbf ......................................\n",
      "[CV] .......... C=100, gamma=1, kernel=rbf, score=0.923, total=  15.0s\n",
      "[CV] C=100, gamma=1, kernel=rbf ......................................\n",
      "[CV] .......... C=100, gamma=1, kernel=rbf, score=0.905, total=  14.4s\n",
      "[CV] C=100, gamma=0.1, kernel=rbf ....................................\n",
      "[CV] ........ C=100, gamma=0.1, kernel=rbf, score=0.986, total=   5.6s\n",
      "[CV] C=100, gamma=0.1, kernel=rbf ....................................\n",
      "[CV] ........ C=100, gamma=0.1, kernel=rbf, score=0.982, total=   5.4s\n",
      "[CV] C=100, gamma=0.1, kernel=rbf ....................................\n",
      "[CV] ........ C=100, gamma=0.1, kernel=rbf, score=0.982, total=   5.6s\n",
      "[CV] C=100, gamma=0.1, kernel=rbf ....................................\n",
      "[CV] ........ C=100, gamma=0.1, kernel=rbf, score=0.986, total=   5.7s\n",
      "[CV] C=100, gamma=0.1, kernel=rbf ....................................\n",
      "[CV] ........ C=100, gamma=0.1, kernel=rbf, score=0.984, total=   5.4s\n",
      "[CV] C=100, gamma=0.01, kernel=rbf ...................................\n",
      "[CV] ....... C=100, gamma=0.01, kernel=rbf, score=0.982, total=   2.6s\n",
      "[CV] C=100, gamma=0.01, kernel=rbf ...................................\n",
      "[CV] ....... C=100, gamma=0.01, kernel=rbf, score=0.983, total=   2.6s\n",
      "[CV] C=100, gamma=0.01, kernel=rbf ...................................\n",
      "[CV] ....... C=100, gamma=0.01, kernel=rbf, score=0.977, total=   2.5s\n",
      "[CV] C=100, gamma=0.01, kernel=rbf ...................................\n",
      "[CV] ....... C=100, gamma=0.01, kernel=rbf, score=0.985, total=   2.8s\n",
      "[CV] C=100, gamma=0.01, kernel=rbf ...................................\n",
      "[CV] ....... C=100, gamma=0.01, kernel=rbf, score=0.980, total=   2.7s\n",
      "[CV] C=100, gamma=0.001, kernel=rbf ..................................\n",
      "[CV] ...... C=100, gamma=0.001, kernel=rbf, score=0.945, total=   4.1s\n",
      "[CV] C=100, gamma=0.001, kernel=rbf ..................................\n",
      "[CV] ...... C=100, gamma=0.001, kernel=rbf, score=0.956, total=   4.2s\n",
      "[CV] C=100, gamma=0.001, kernel=rbf ..................................\n",
      "[CV] ...... C=100, gamma=0.001, kernel=rbf, score=0.944, total=   3.2s\n",
      "[CV] C=100, gamma=0.001, kernel=rbf ..................................\n",
      "[CV] ...... C=100, gamma=0.001, kernel=rbf, score=0.951, total=   3.5s\n",
      "[CV] C=100, gamma=0.001, kernel=rbf ..................................\n",
      "[CV] ...... C=100, gamma=0.001, kernel=rbf, score=0.959, total=   3.9s\n"
     ]
    },
    {
     "name": "stderr",
     "output_type": "stream",
     "text": [
      "[Parallel(n_jobs=1)]: Done  80 out of  80 | elapsed:  9.4min finished\n"
     ]
    },
    {
     "data": {
      "text/plain": [
       "GridSearchCV(estimator=SVC(),\n",
       "             param_grid={'C': [0.1, 1, 10, 100], 'gamma': [1, 0.1, 0.01, 0.001],\n",
       "                         'kernel': ['rbf']},\n",
       "             verbose=3)"
      ]
     },
     "execution_count": 33,
     "metadata": {},
     "output_type": "execute_result"
    }
   ],
   "source": [
    "param_grid = {'C': [0.1, 1, 10, 100],\n",
    "             'gamma': [1, 0.1, 0.01, 0.001],\n",
    "             'kernel':['rbf']}\n",
    "SVC_grid = GridSearchCV(SVM_model, param_grid=param_grid, refit=True, verbose=3)\n",
    "SVC_grid.fit(X_train, y_train)"
   ]
  },
  {
   "cell_type": "code",
   "execution_count": 34,
   "metadata": {},
   "outputs": [
    {
     "name": "stdout",
     "output_type": "stream",
     "text": [
      "Best: 0.983871 using {'C': 10, 'gamma': 0.1, 'kernel': 'rbf'}\n"
     ]
    }
   ],
   "source": [
    "print(\"Best: %f using %s\" %(SVC_grid.best_score_, SVC_grid.best_params_))"
   ]
  },
  {
   "cell_type": "code",
   "execution_count": 44,
   "metadata": {},
   "outputs": [],
   "source": [
    "#Re-iterating the SVM with Grid Search defined parameters\n",
    "SVM_tuned = SVC(C=1.0, gamma=0.1, kernel='rbf',probability=True)\n",
    "SVM_tuned.fit(X_train, y_train)\n",
    "y_pred_svm = SVM_tuned.predict(X_test)"
   ]
  },
  {
   "cell_type": "code",
   "execution_count": 45,
   "metadata": {},
   "outputs": [
    {
     "name": "stdout",
     "output_type": "stream",
     "text": [
      "Accuracy: 0.9858585858585859\n",
      "              precision    recall  f1-score   support\n",
      "\n",
      "           0       0.99      0.98      0.99      2005\n",
      "           1       0.98      0.99      0.99      1955\n",
      "\n",
      "    accuracy                           0.99      3960\n",
      "   macro avg       0.99      0.99      0.99      3960\n",
      "weighted avg       0.99      0.99      0.99      3960\n",
      "\n"
     ]
    },
    {
     "data": {
      "text/plain": [
       "<AxesSubplot:>"
      ]
     },
     "execution_count": 45,
     "metadata": {},
     "output_type": "execute_result"
    },
    {
     "data": {
      "image/png": "[encoded data removed]",
      "text/plain": [
       "<Figure size 432x288 with 2 Axes>"
      ]
     },
     "metadata": {
      "needs_background": "light"
     },
     "output_type": "display_data"
    }
   ],
   "source": [
    "print('Accuracy:',accuracy_score(y_pred_svm, y_test))\n",
    "print(classification_report(y_test, y_pred_svm))\n",
    "sns.heatmap(confusion_matrix(y_test, y_pred_svm), annot=True, cmap='Blues',fmt='d')"
   ]
  },
  {
   "cell_type": "markdown",
   "metadata": {},
   "source": [
    "We can observe that SVM model has the highest score for all of Accuracy, Precision and Recall"
   ]
  },
  {
   "cell_type": "markdown",
   "metadata": {},
   "source": [
    "### ROC Curve"
   ]
  },
  {
   "cell_type": "code",
   "execution_count": 47,
   "metadata": {},
   "outputs": [
    {
     "data": {
      "image/png": "[encoded data removed]",
      "text/plain": [
       "<Figure size 1080x720 with 1 Axes>"
      ]
     },
     "metadata": {
      "needs_background": "light"
     },
     "output_type": "display_data"
    }
   ],
   "source": [
    "fig = plt.figure(figsize=(15,10))\n",
    "y_pred_logtune = logreg_tuned.predict_proba(X_test)[:,1]\n",
    "hp_fpr, hp_tpr, hp_thresholds =roc_curve(y_test, y_pred_logtune)\n",
    "y_pred_rfcgrid = rfc2.predict_proba(X_test)[:,1]\n",
    "rf_fpr, rf_tpr, rf_thresholds =roc_curve(y_test, y_pred_rfcgrid)\n",
    "y_pred_svmtune = SVM_tuned.predict_proba(X_test)[:,1]\n",
    "svm_fpr, svm_tpr, svm_thresholds =roc_curve(y_test, y_pred_svmtune)\n",
    "plt.plot([0,1],[0,1], 'r--')\n",
    "plt.plot(hp_fpr,hp_tpr,label='Logistic Regression')\n",
    "plt.plot(rf_fpr,rf_tpr,label='Random Forrest Classifier')\n",
    "plt.plot(svm_fpr, svm_tpr,label='Support Vector Machine')\n",
    "plt.xlabel('False Positive Rate',fontsize=15)\n",
    "plt.ylabel('True Positive Rate',fontsize=15)\n",
    "plt.title('ROC Curve Analysis', fontsize=20)\n",
    "plt.legend(prop={'size':20}, loc='lower right')\n",
    "plt.show();"
   ]
  },
  {
   "cell_type": "code",
   "execution_count": null,
   "metadata": {},
   "outputs": [],
   "source": []
  }
 ],
 "metadata": {
  "kernelspec": {
   "display_name": "Python 3",
   "language": "python",
   "name": "python3"
  },
  "language_info": {
   "codemirror_mode": {
    "name": "ipython",
    "version": 3
   },
   "file_extension": ".py",
   "mimetype": "text/x-python",
   "name": "python",
   "nbconvert_exporter": "python",
   "pygments_lexer": "ipython3",
   "version": "3.8.5"
  }
 },
 "nbformat": 4,
 "nbformat_minor": 4
}
