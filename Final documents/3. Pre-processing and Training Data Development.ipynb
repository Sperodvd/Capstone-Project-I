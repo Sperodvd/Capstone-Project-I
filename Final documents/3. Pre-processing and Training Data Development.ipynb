{
 "cells": [
  {
   "cell_type": "code",
   "execution_count": 1,
   "metadata": {},
   "outputs": [],
   "source": [
    "import numpy as np\n",
    "import pandas as pd\n",
    "import matplotlib.pyplot as plt\n",
    "import seaborn as sns\n",
    "from sklearn.pipeline import Pipeline\n",
    "from sklearn.model_selection import train_test_split, GridSearchCV, RandomizedSearchCV\n",
    "from sklearn.linear_model import LogisticRegression\n",
    "from sklearn.metrics import accuracy_score, classification_report, confusion_matrix, roc_curve\n",
    "from sklearn.ensemble import RandomForestClassifier\n",
    "from sklearn.preprocessing import StandardScaler\n",
    "from imblearn.over_sampling import SMOTE\n",
    "\n",
    "import warnings\n",
    "warnings.filterwarnings(\"ignore\")"
   ]
  },
  {
   "cell_type": "code",
   "execution_count": 2,
   "metadata": {},
   "outputs": [],
   "source": [
    "c_data = pd.read_csv('../data/data_cleaned.csv')"
   ]
  },
  {
   "cell_type": "markdown",
   "metadata": {},
   "source": [
    "#### Drop Categorical feature"
   ]
  },
  {
   "cell_type": "code",
   "execution_count": 3,
   "metadata": {},
   "outputs": [],
   "source": [
    "f_data = c_data.drop('Liability-Assets_Flag', axis=1)"
   ]
  },
  {
   "cell_type": "markdown",
   "metadata": {},
   "source": [
    "Seperate the data"
   ]
  },
  {
   "cell_type": "code",
   "execution_count": 4,
   "metadata": {},
   "outputs": [],
   "source": [
    "X = f_data.drop('Bankrupt?', axis=1)\n",
    "y = f_data['Bankrupt?']"
   ]
  },
  {
   "cell_type": "markdown",
   "metadata": {},
   "source": [
    "#### Dealing with Imbalanced Dataset\n",
    "\n",
    "Apply SMOTE(Synthetic Minority Oversampling Technique) to generate synthetic samples from minority class to imbalanced target class problem."
   ]
  },
  {
   "cell_type": "code",
   "execution_count": 5,
   "metadata": {},
   "outputs": [
    {
     "data": {
      "text/plain": [
       "((13198, 93), (13198,))"
      ]
     },
     "execution_count": 5,
     "metadata": {},
     "output_type": "execute_result"
    }
   ],
   "source": [
    "smote = SMOTE(sampling_strategy='minority')\n",
    "X_sm, y_sm = smote.fit_resample(X, y)\n",
    "X_sm.shape, y_sm.shape"
   ]
  },
  {
   "cell_type": "code",
   "execution_count": 6,
   "metadata": {},
   "outputs": [
    {
     "data": {
      "text/plain": [
       "1    6599\n",
       "0    6599\n",
       "Name: Bankrupt?, dtype: int64"
      ]
     },
     "execution_count": 6,
     "metadata": {},
     "output_type": "execute_result"
    }
   ],
   "source": [
    "y_sm.value_counts()"
   ]
  },
  {
   "cell_type": "markdown",
   "metadata": {},
   "source": [
    "### Logistic Regression\n",
    "- Logistic Regression(Base)\n",
    "- Logistic Regression(Hyperparameter tuning)"
   ]
  },
  {
   "cell_type": "markdown",
   "metadata": {},
   "source": [
    "#### Logistic Regression Base model"
   ]
  },
  {
   "cell_type": "code",
   "execution_count": 50,
   "metadata": {},
   "outputs": [
    {
     "name": "stdout",
     "output_type": "stream",
     "text": [
      "0.6103535353535353\n",
      "              precision    recall  f1-score   support\n",
      "\n",
      "           0       0.59      0.73      0.65      2005\n",
      "           1       0.64      0.49      0.55      1955\n",
      "\n",
      "    accuracy                           0.61      3960\n",
      "   macro avg       0.62      0.61      0.60      3960\n",
      "weighted avg       0.62      0.61      0.60      3960\n",
      "\n"
     ]
    },
    {
     "data": {
      "text/plain": [
       "<AxesSubplot:>"
      ]
     },
     "execution_count": 50,
     "metadata": {},
     "output_type": "execute_result"
    },
    {
     "data": {
      "image/png": "[encoded data removed]",
      "text/plain": [
       "<Figure size 432x288 with 2 Axes>"
      ]
     },
     "metadata": {
      "needs_background": "light"
     },
     "output_type": "display_data"
    }
   ],
   "source": [
    "logreg = LogisticRegression()\n",
    "X_train, X_test, y_train, y_test = train_test_split(X_sm, y_sm, test_size=0.30, random_state=42)\n",
    "logreg.fit(X_train, y_train)\n",
    "y_pred = logreg.predict(X_test)\n",
    "\n",
    "print(accuracy_score(y_pred, y_test))\n",
    "print(classification_report(y_test, y_pred))\n",
    "sns.heatmap(confusion_matrix(y_test, y_pred), annot=True, cmap='Blues',fmt='d')"
   ]
  },
  {
   "cell_type": "markdown",
   "metadata": {},
   "source": [
    "#### Hyperparameter Tuning"
   ]
  },
  {
   "cell_type": "code",
   "execution_count": 51,
   "metadata": {},
   "outputs": [
    {
     "name": "stdout",
     "output_type": "stream",
     "text": [
      "Best: 0.906906 using {'classifier__C': 1.0, 'classifier__penalty': 'l2', 'classifier__solver': 'lbfgs'}\n"
     ]
    }
   ],
   "source": [
    "steps = [('scaler',StandardScaler()),\n",
    "        ('classifier', LogisticRegression())]\n",
    "pipeline = Pipeline(steps)\n",
    "\n",
    "params = {'classifier__C':[1.0,10,100,0.1,0.01],\n",
    "         'classifier__penalty':['l2'],\n",
    "         'classifier__solver':['lbfgs', 'liblinear']}\n",
    "\n",
    "cv = GridSearchCV(pipeline, param_grid=params, cv=3)\n",
    "cv.fit(X_train, y_train)\n",
    "\n",
    "y_pred = cv.predict(X_test)\n",
    "print(\"Best: %f using %s\" % (cv.best_score_, cv.best_params_))"
   ]
  },
  {
   "cell_type": "code",
   "execution_count": 7,
   "metadata": {},
   "outputs": [],
   "source": [
    "scaler = StandardScaler()\n",
    "X_scaled = scaler.fit_transform(X_sm)\n",
    "X_train, X_test, y_train, y_test = train_test_split(X_scaled, y_sm, test_size=0.30, random_state=42)"
   ]
  },
  {
   "cell_type": "code",
   "execution_count": 24,
   "metadata": {},
   "outputs": [
    {
     "name": "stdout",
     "output_type": "stream",
     "text": [
      "0.9027777777777778\n",
      "              precision    recall  f1-score   support\n",
      "\n",
      "           0       0.91      0.90      0.90      2005\n",
      "           1       0.89      0.91      0.90      1955\n",
      "\n",
      "    accuracy                           0.90      3960\n",
      "   macro avg       0.90      0.90      0.90      3960\n",
      "weighted avg       0.90      0.90      0.90      3960\n",
      "\n"
     ]
    },
    {
     "data": {
      "text/plain": [
       "<AxesSubplot:>"
      ]
     },
     "execution_count": 24,
     "metadata": {},
     "output_type": "execute_result"
    },
    {
     "data": {
      "image/png": "[encoded data removed]",
      "text/plain": [
       "<Figure size 432x288 with 2 Axes>"
      ]
     },
     "metadata": {
      "needs_background": "light"
     },
     "output_type": "display_data"
    }
   ],
   "source": [
    "logreg_tuned=LogisticRegression(penalty='l2',C=1.0,solver='liblinear') \n",
    "logreg_tuned.fit(X_train, y_train)\n",
    "y_pred = logreg_tuned.predict(X_test)\n",
    "\n",
    "print(accuracy_score(y_pred, y_test))\n",
    "print(classification_report(y_test, y_pred))\n",
    "sns.heatmap(confusion_matrix(y_test, y_pred), annot=True, cmap='Blues',fmt='d')"
   ]
  },
  {
   "cell_type": "markdown",
   "metadata": {},
   "source": [
    "#### Comparing ROC Curve between the models"
   ]
  },
  {
   "cell_type": "code",
   "execution_count": 62,
   "metadata": {},
   "outputs": [
    {
     "data": {
      "image/png": "[encoded data removed]",
      "text/plain": [
       "<Figure size 2160x720 with 2 Axes>"
      ]
     },
     "metadata": {
      "needs_background": "light"
     },
     "output_type": "display_data"
    }
   ],
   "source": [
    "fig, (ax1, ax2) = plt.subplots(1, 2, figsize=(30,10))\n",
    "y_pred_prob = logreg.predict_proba(X_test)[:,1]\n",
    "fpr, tpr, thresholds = roc_curve(y_test, y_pred_prob)\n",
    "ax1.plot([0,1],[0,1], 'r--')\n",
    "ax1.plot(fpr,tpr,label='Logistic Regression')\n",
    "ax1.set_xlabel('False Positive Rate',fontsize=15)\n",
    "ax1.set_ylabel('True Positive Rate',fontsize=15)\n",
    "ax1.set_title('Logistic Regression (Base) ROC Curve',fontsize=20)\n",
    "\n",
    "y_pred_logtune = logreg_tuned.predict_proba(X_test)[:,1]\n",
    "hp_fpr, hp_tpr, hp_thresholds =roc_curve(y_test, y_pred_logtune)\n",
    "ax2.plot([0,1],[0,1], 'r--')\n",
    "ax2.plot(hp_fpr,hp_tpr,label='Logistic Regression')\n",
    "ax2.set_xlabel('False Positive Rate',fontsize=15)\n",
    "ax2.set_ylabel('True Positive Rate',fontsize=15)\n",
    "ax2.set_title('Logistic Regression (Hyperparameter tuned) ROC Curve', fontsize=20)\n",
    "plt.show();"
   ]
  },
  {
   "cell_type": "markdown",
   "metadata": {},
   "source": [
    "### Random Forrest Classifier"
   ]
  },
  {
   "cell_type": "markdown",
   "metadata": {},
   "source": [
    "#### RandomizedSearchCV"
   ]
  },
  {
   "cell_type": "code",
   "execution_count": 8,
   "metadata": {},
   "outputs": [
    {
     "data": {
      "text/plain": [
       "RandomizedSearchCV(cv=3, estimator=RandomForestClassifier(), n_jobs=-1,\n",
       "                   param_distributions={'criterion': ['gini', 'entropy'],\n",
       "                                        'max_depth': [10, 20, 30, 40, 50, 60,\n",
       "                                                      70, 80, 90, 100],\n",
       "                                        'max_features': ['auto', 'sqrt'],\n",
       "                                        'n_estimators': [200, 288, 377, 466,\n",
       "                                                         555, 644, 733, 822,\n",
       "                                                         911, 1000]},\n",
       "                   random_state=42)"
      ]
     },
     "execution_count": 8,
     "metadata": {},
     "output_type": "execute_result"
    }
   ],
   "source": [
    "rf = RandomForestClassifier()\n",
    "estimators = [int(x) for x in np.linspace(start=200, stop=1000, num=10)]\n",
    "depth = [int(x) for x in np.linspace(10, 100, num=10)]\n",
    "\n",
    "param = {\n",
    "    'n_estimators': estimators,\n",
    "    'max_depth': depth,\n",
    "    'criterion': ['gini','entropy'],\n",
    "    'max_features':['auto','sqrt']    \n",
    "}\n",
    "rf_random = RandomizedSearchCV(estimator=rf, param_distributions=param, cv=3, random_state=42, n_jobs=-1)\n",
    "rf_random.fit(X_train, y_train)"
   ]
  },
  {
   "cell_type": "code",
   "execution_count": 9,
   "metadata": {},
   "outputs": [
    {
     "data": {
      "text/plain": [
       "0.9702315574433146"
      ]
     },
     "execution_count": 9,
     "metadata": {},
     "output_type": "execute_result"
    }
   ],
   "source": [
    "rf_random.best_score_"
   ]
  },
  {
   "cell_type": "code",
   "execution_count": 10,
   "metadata": {},
   "outputs": [
    {
     "data": {
      "text/plain": [
       "RandomForestClassifier(max_depth=50, max_features='sqrt', n_estimators=555)"
      ]
     },
     "execution_count": 10,
     "metadata": {},
     "output_type": "execute_result"
    }
   ],
   "source": [
    "rf_random.best_estimator_"
   ]
  },
  {
   "cell_type": "code",
   "execution_count": 10,
   "metadata": {},
   "outputs": [
    {
     "data": {
      "text/plain": [
       "{'n_estimators': 555,\n",
       " 'max_features': 'auto',\n",
       " 'max_depth': 50,\n",
       " 'criterion': 'gini'}"
      ]
     },
     "execution_count": 10,
     "metadata": {},
     "output_type": "execute_result"
    }
   ],
   "source": [
    "rf_random.best_params_"
   ]
  },
  {
   "cell_type": "code",
   "execution_count": 24,
   "metadata": {},
   "outputs": [
    {
     "data": {
      "text/html": [
       "<div>\n",
       "<style scoped>\n",
       "    .dataframe tbody tr th:only-of-type {\n",
       "        vertical-align: middle;\n",
       "    }\n",
       "\n",
       "    .dataframe tbody tr th {\n",
       "        vertical-align: top;\n",
       "    }\n",
       "\n",
       "    .dataframe thead th {\n",
       "        text-align: right;\n",
       "    }\n",
       "</style>\n",
       "<table border=\"1\" class=\"dataframe\">\n",
       "  <thead>\n",
       "    <tr style=\"text-align: right;\">\n",
       "      <th></th>\n",
       "      <th>mean_fit_time</th>\n",
       "      <th>std_fit_time</th>\n",
       "      <th>mean_score_time</th>\n",
       "      <th>std_score_time</th>\n",
       "      <th>param_n_estimators</th>\n",
       "      <th>param_max_features</th>\n",
       "      <th>param_max_depth</th>\n",
       "      <th>param_criterion</th>\n",
       "      <th>params</th>\n",
       "      <th>split0_test_score</th>\n",
       "      <th>split1_test_score</th>\n",
       "      <th>split2_test_score</th>\n",
       "      <th>mean_test_score</th>\n",
       "      <th>std_test_score</th>\n",
       "    </tr>\n",
       "    <tr>\n",
       "      <th>rank_test_score</th>\n",
       "      <th></th>\n",
       "      <th></th>\n",
       "      <th></th>\n",
       "      <th></th>\n",
       "      <th></th>\n",
       "      <th></th>\n",
       "      <th></th>\n",
       "      <th></th>\n",
       "      <th></th>\n",
       "      <th></th>\n",
       "      <th></th>\n",
       "      <th></th>\n",
       "      <th></th>\n",
       "      <th></th>\n",
       "    </tr>\n",
       "  </thead>\n",
       "  <tbody>\n",
       "    <tr>\n",
       "      <th>1</th>\n",
       "      <td>30.402999</td>\n",
       "      <td>1.179221</td>\n",
       "      <td>0.445667</td>\n",
       "      <td>0.024581</td>\n",
       "      <td>555</td>\n",
       "      <td>auto</td>\n",
       "      <td>50</td>\n",
       "      <td>gini</td>\n",
       "      <td>{'n_estimators': 555, 'max_features': 'auto', ...</td>\n",
       "      <td>0.969805</td>\n",
       "      <td>0.963625</td>\n",
       "      <td>0.975966</td>\n",
       "      <td>0.969799</td>\n",
       "      <td>0.005038</td>\n",
       "    </tr>\n",
       "    <tr>\n",
       "      <th>2</th>\n",
       "      <td>39.289002</td>\n",
       "      <td>0.927838</td>\n",
       "      <td>0.510998</td>\n",
       "      <td>0.026984</td>\n",
       "      <td>733</td>\n",
       "      <td>auto</td>\n",
       "      <td>70</td>\n",
       "      <td>gini</td>\n",
       "      <td>{'n_estimators': 733, 'max_features': 'auto', ...</td>\n",
       "      <td>0.969481</td>\n",
       "      <td>0.963300</td>\n",
       "      <td>0.976291</td>\n",
       "      <td>0.969690</td>\n",
       "      <td>0.005306</td>\n",
       "    </tr>\n",
       "    <tr>\n",
       "      <th>3</th>\n",
       "      <td>25.941666</td>\n",
       "      <td>0.242578</td>\n",
       "      <td>0.381000</td>\n",
       "      <td>0.003741</td>\n",
       "      <td>466</td>\n",
       "      <td>sqrt</td>\n",
       "      <td>20</td>\n",
       "      <td>gini</td>\n",
       "      <td>{'n_estimators': 466, 'max_features': 'sqrt', ...</td>\n",
       "      <td>0.969805</td>\n",
       "      <td>0.962975</td>\n",
       "      <td>0.975966</td>\n",
       "      <td>0.969582</td>\n",
       "      <td>0.005306</td>\n",
       "    </tr>\n",
       "    <tr>\n",
       "      <th>4</th>\n",
       "      <td>30.979999</td>\n",
       "      <td>0.720347</td>\n",
       "      <td>0.429000</td>\n",
       "      <td>0.006976</td>\n",
       "      <td>555</td>\n",
       "      <td>sqrt</td>\n",
       "      <td>50</td>\n",
       "      <td>gini</td>\n",
       "      <td>{'n_estimators': 555, 'max_features': 'sqrt', ...</td>\n",
       "      <td>0.970130</td>\n",
       "      <td>0.963949</td>\n",
       "      <td>0.974342</td>\n",
       "      <td>0.969474</td>\n",
       "      <td>0.004268</td>\n",
       "    </tr>\n",
       "    <tr>\n",
       "      <th>5</th>\n",
       "      <td>25.919333</td>\n",
       "      <td>0.906960</td>\n",
       "      <td>0.359000</td>\n",
       "      <td>0.009899</td>\n",
       "      <td>466</td>\n",
       "      <td>sqrt</td>\n",
       "      <td>50</td>\n",
       "      <td>gini</td>\n",
       "      <td>{'n_estimators': 466, 'max_features': 'sqrt', ...</td>\n",
       "      <td>0.968182</td>\n",
       "      <td>0.963300</td>\n",
       "      <td>0.975641</td>\n",
       "      <td>0.969041</td>\n",
       "      <td>0.005075</td>\n",
       "    </tr>\n",
       "    <tr>\n",
       "      <th>6</th>\n",
       "      <td>67.470000</td>\n",
       "      <td>0.731916</td>\n",
       "      <td>0.735333</td>\n",
       "      <td>0.026233</td>\n",
       "      <td>1000</td>\n",
       "      <td>auto</td>\n",
       "      <td>70</td>\n",
       "      <td>entropy</td>\n",
       "      <td>{'n_estimators': 1000, 'max_features': 'auto',...</td>\n",
       "      <td>0.969156</td>\n",
       "      <td>0.963625</td>\n",
       "      <td>0.973693</td>\n",
       "      <td>0.968824</td>\n",
       "      <td>0.004117</td>\n",
       "    </tr>\n",
       "    <tr>\n",
       "      <th>7</th>\n",
       "      <td>48.887999</td>\n",
       "      <td>1.424799</td>\n",
       "      <td>0.504000</td>\n",
       "      <td>0.016872</td>\n",
       "      <td>733</td>\n",
       "      <td>auto</td>\n",
       "      <td>40</td>\n",
       "      <td>entropy</td>\n",
       "      <td>{'n_estimators': 733, 'max_features': 'auto', ...</td>\n",
       "      <td>0.968831</td>\n",
       "      <td>0.962325</td>\n",
       "      <td>0.974667</td>\n",
       "      <td>0.968608</td>\n",
       "      <td>0.005041</td>\n",
       "    </tr>\n",
       "    <tr>\n",
       "      <th>8</th>\n",
       "      <td>13.728998</td>\n",
       "      <td>0.474498</td>\n",
       "      <td>0.150001</td>\n",
       "      <td>0.008832</td>\n",
       "      <td>200</td>\n",
       "      <td>auto</td>\n",
       "      <td>50</td>\n",
       "      <td>entropy</td>\n",
       "      <td>{'n_estimators': 200, 'max_features': 'auto', ...</td>\n",
       "      <td>0.968831</td>\n",
       "      <td>0.963625</td>\n",
       "      <td>0.973368</td>\n",
       "      <td>0.968608</td>\n",
       "      <td>0.003981</td>\n",
       "    </tr>\n",
       "    <tr>\n",
       "      <th>9</th>\n",
       "      <td>61.762665</td>\n",
       "      <td>0.272079</td>\n",
       "      <td>0.675667</td>\n",
       "      <td>0.004920</td>\n",
       "      <td>1000</td>\n",
       "      <td>auto</td>\n",
       "      <td>10</td>\n",
       "      <td>entropy</td>\n",
       "      <td>{'n_estimators': 1000, 'max_features': 'auto',...</td>\n",
       "      <td>0.961688</td>\n",
       "      <td>0.957454</td>\n",
       "      <td>0.968171</td>\n",
       "      <td>0.962438</td>\n",
       "      <td>0.004407</td>\n",
       "    </tr>\n",
       "    <tr>\n",
       "      <th>10</th>\n",
       "      <td>13.050000</td>\n",
       "      <td>0.078473</td>\n",
       "      <td>0.141334</td>\n",
       "      <td>0.009673</td>\n",
       "      <td>200</td>\n",
       "      <td>sqrt</td>\n",
       "      <td>10</td>\n",
       "      <td>entropy</td>\n",
       "      <td>{'n_estimators': 200, 'max_features': 'sqrt', ...</td>\n",
       "      <td>0.961364</td>\n",
       "      <td>0.957129</td>\n",
       "      <td>0.966548</td>\n",
       "      <td>0.961680</td>\n",
       "      <td>0.003852</td>\n",
       "    </tr>\n",
       "  </tbody>\n",
       "</table>\n",
       "</div>"
      ],
      "text/plain": [
       "                 mean_fit_time  std_fit_time  mean_score_time  std_score_time  \\\n",
       "rank_test_score                                                                 \n",
       "1                    30.402999      1.179221         0.445667        0.024581   \n",
       "2                    39.289002      0.927838         0.510998        0.026984   \n",
       "3                    25.941666      0.242578         0.381000        0.003741   \n",
       "4                    30.979999      0.720347         0.429000        0.006976   \n",
       "5                    25.919333      0.906960         0.359000        0.009899   \n",
       "6                    67.470000      0.731916         0.735333        0.026233   \n",
       "7                    48.887999      1.424799         0.504000        0.016872   \n",
       "8                    13.728998      0.474498         0.150001        0.008832   \n",
       "9                    61.762665      0.272079         0.675667        0.004920   \n",
       "10                   13.050000      0.078473         0.141334        0.009673   \n",
       "\n",
       "                param_n_estimators param_max_features param_max_depth  \\\n",
       "rank_test_score                                                         \n",
       "1                              555               auto              50   \n",
       "2                              733               auto              70   \n",
       "3                              466               sqrt              20   \n",
       "4                              555               sqrt              50   \n",
       "5                              466               sqrt              50   \n",
       "6                             1000               auto              70   \n",
       "7                              733               auto              40   \n",
       "8                              200               auto              50   \n",
       "9                             1000               auto              10   \n",
       "10                             200               sqrt              10   \n",
       "\n",
       "                param_criterion  \\\n",
       "rank_test_score                   \n",
       "1                          gini   \n",
       "2                          gini   \n",
       "3                          gini   \n",
       "4                          gini   \n",
       "5                          gini   \n",
       "6                       entropy   \n",
       "7                       entropy   \n",
       "8                       entropy   \n",
       "9                       entropy   \n",
       "10                      entropy   \n",
       "\n",
       "                                                            params  \\\n",
       "rank_test_score                                                      \n",
       "1                {'n_estimators': 555, 'max_features': 'auto', ...   \n",
       "2                {'n_estimators': 733, 'max_features': 'auto', ...   \n",
       "3                {'n_estimators': 466, 'max_features': 'sqrt', ...   \n",
       "4                {'n_estimators': 555, 'max_features': 'sqrt', ...   \n",
       "5                {'n_estimators': 466, 'max_features': 'sqrt', ...   \n",
       "6                {'n_estimators': 1000, 'max_features': 'auto',...   \n",
       "7                {'n_estimators': 733, 'max_features': 'auto', ...   \n",
       "8                {'n_estimators': 200, 'max_features': 'auto', ...   \n",
       "9                {'n_estimators': 1000, 'max_features': 'auto',...   \n",
       "10               {'n_estimators': 200, 'max_features': 'sqrt', ...   \n",
       "\n",
       "                 split0_test_score  split1_test_score  split2_test_score  \\\n",
       "rank_test_score                                                            \n",
       "1                         0.969805           0.963625           0.975966   \n",
       "2                         0.969481           0.963300           0.976291   \n",
       "3                         0.969805           0.962975           0.975966   \n",
       "4                         0.970130           0.963949           0.974342   \n",
       "5                         0.968182           0.963300           0.975641   \n",
       "6                         0.969156           0.963625           0.973693   \n",
       "7                         0.968831           0.962325           0.974667   \n",
       "8                         0.968831           0.963625           0.973368   \n",
       "9                         0.961688           0.957454           0.968171   \n",
       "10                        0.961364           0.957129           0.966548   \n",
       "\n",
       "                 mean_test_score  std_test_score  \n",
       "rank_test_score                                   \n",
       "1                       0.969799        0.005038  \n",
       "2                       0.969690        0.005306  \n",
       "3                       0.969582        0.005306  \n",
       "4                       0.969474        0.004268  \n",
       "5                       0.969041        0.005075  \n",
       "6                       0.968824        0.004117  \n",
       "7                       0.968608        0.005041  \n",
       "8                       0.968608        0.003981  \n",
       "9                       0.962438        0.004407  \n",
       "10                      0.961680        0.003852  "
      ]
     },
     "execution_count": 24,
     "metadata": {},
     "output_type": "execute_result"
    }
   ],
   "source": [
    "df = pd.DataFrame(rf_random.cv_results_)\n",
    "df = df.set_index('rank_test_score')\n",
    "df.sort_index()"
   ]
  },
  {
   "cell_type": "code",
   "execution_count": 12,
   "metadata": {},
   "outputs": [
    {
     "name": "stdout",
     "output_type": "stream",
     "text": [
      "0.9775252525252526\n"
     ]
    }
   ],
   "source": [
    "rfc1 = RandomForestClassifier(n_estimators=555, max_features='auto', max_depth=50, criterion='gini', random_state=42)\n",
    "rfc1.fit(X_train, y_train)\n",
    "pred = rfc1.predict(X_test)\n",
    "print(accuracy_score(pred, y_test))"
   ]
  },
  {
   "cell_type": "markdown",
   "metadata": {},
   "source": [
    "#### GridSearchCV"
   ]
  },
  {
   "cell_type": "code",
   "execution_count": 16,
   "metadata": {},
   "outputs": [
    {
     "data": {
      "text/plain": [
       "GridSearchCV(cv=3, estimator=RandomForestClassifier(random_state=42), n_jobs=-1,\n",
       "             param_grid={'criterion': ['gini'], 'max_depth': [20, 50, 70],\n",
       "                         'max_features': ['auto'],\n",
       "                         'n_estimators': [400, 500, 600, 700]})"
      ]
     },
     "execution_count": 16,
     "metadata": {},
     "output_type": "execute_result"
    }
   ],
   "source": [
    "param = {\n",
    "    'n_estimators': [400,500,600,700],\n",
    "    'max_depth': [20,50,70],\n",
    "    'criterion': ['gini'],\n",
    "    'max_features':['auto']    \n",
    "}\n",
    "rfg = RandomForestClassifier(random_state=42)\n",
    "rf_grid = GridSearchCV(estimator=rfg, param_grid=param, cv=3, n_jobs=-1)\n",
    "rf_grid.fit(X_train, y_train)"
   ]
  },
  {
   "cell_type": "code",
   "execution_count": 17,
   "metadata": {},
   "outputs": [
    {
     "data": {
      "text/plain": [
       "{'criterion': 'gini',\n",
       " 'max_depth': 20,\n",
       " 'max_features': 'auto',\n",
       " 'n_estimators': 400}"
      ]
     },
     "execution_count": 17,
     "metadata": {},
     "output_type": "execute_result"
    }
   ],
   "source": [
    "rf_grid.best_params_"
   ]
  },
  {
   "cell_type": "code",
   "execution_count": 19,
   "metadata": {},
   "outputs": [
    {
     "data": {
      "text/html": [
       "<div>\n",
       "<style scoped>\n",
       "    .dataframe tbody tr th:only-of-type {\n",
       "        vertical-align: middle;\n",
       "    }\n",
       "\n",
       "    .dataframe tbody tr th {\n",
       "        vertical-align: top;\n",
       "    }\n",
       "\n",
       "    .dataframe thead th {\n",
       "        text-align: right;\n",
       "    }\n",
       "</style>\n",
       "<table border=\"1\" class=\"dataframe\">\n",
       "  <thead>\n",
       "    <tr style=\"text-align: right;\">\n",
       "      <th></th>\n",
       "      <th>mean_fit_time</th>\n",
       "      <th>std_fit_time</th>\n",
       "      <th>mean_score_time</th>\n",
       "      <th>std_score_time</th>\n",
       "      <th>param_criterion</th>\n",
       "      <th>param_max_depth</th>\n",
       "      <th>param_max_features</th>\n",
       "      <th>param_n_estimators</th>\n",
       "      <th>params</th>\n",
       "      <th>split0_test_score</th>\n",
       "      <th>split1_test_score</th>\n",
       "      <th>split2_test_score</th>\n",
       "      <th>mean_test_score</th>\n",
       "      <th>std_test_score</th>\n",
       "    </tr>\n",
       "    <tr>\n",
       "      <th>rank_test_score</th>\n",
       "      <th></th>\n",
       "      <th></th>\n",
       "      <th></th>\n",
       "      <th></th>\n",
       "      <th></th>\n",
       "      <th></th>\n",
       "      <th></th>\n",
       "      <th></th>\n",
       "      <th></th>\n",
       "      <th></th>\n",
       "      <th></th>\n",
       "      <th></th>\n",
       "      <th></th>\n",
       "      <th></th>\n",
       "    </tr>\n",
       "  </thead>\n",
       "  <tbody>\n",
       "    <tr>\n",
       "      <th>1</th>\n",
       "      <td>21.330055</td>\n",
       "      <td>0.414284</td>\n",
       "      <td>0.313666</td>\n",
       "      <td>0.002054</td>\n",
       "      <td>gini</td>\n",
       "      <td>20</td>\n",
       "      <td>auto</td>\n",
       "      <td>400</td>\n",
       "      <td>{'criterion': 'gini', 'max_depth': 20, 'max_fe...</td>\n",
       "      <td>0.972078</td>\n",
       "      <td>0.963949</td>\n",
       "      <td>0.974342</td>\n",
       "      <td>0.970123</td>\n",
       "      <td>0.004462</td>\n",
       "    </tr>\n",
       "    <tr>\n",
       "      <th>2</th>\n",
       "      <td>32.703666</td>\n",
       "      <td>0.599957</td>\n",
       "      <td>0.464667</td>\n",
       "      <td>0.011324</td>\n",
       "      <td>gini</td>\n",
       "      <td>50</td>\n",
       "      <td>auto</td>\n",
       "      <td>600</td>\n",
       "      <td>{'criterion': 'gini', 'max_depth': 50, 'max_fe...</td>\n",
       "      <td>0.971104</td>\n",
       "      <td>0.963949</td>\n",
       "      <td>0.974667</td>\n",
       "      <td>0.969907</td>\n",
       "      <td>0.004457</td>\n",
       "    </tr>\n",
       "    <tr>\n",
       "      <th>2</th>\n",
       "      <td>38.197332</td>\n",
       "      <td>0.657603</td>\n",
       "      <td>0.587000</td>\n",
       "      <td>0.044952</td>\n",
       "      <td>gini</td>\n",
       "      <td>50</td>\n",
       "      <td>auto</td>\n",
       "      <td>700</td>\n",
       "      <td>{'criterion': 'gini', 'max_depth': 50, 'max_fe...</td>\n",
       "      <td>0.971104</td>\n",
       "      <td>0.963949</td>\n",
       "      <td>0.974667</td>\n",
       "      <td>0.969907</td>\n",
       "      <td>0.004457</td>\n",
       "    </tr>\n",
       "    <tr>\n",
       "      <th>2</th>\n",
       "      <td>33.385060</td>\n",
       "      <td>1.129537</td>\n",
       "      <td>0.450667</td>\n",
       "      <td>0.016857</td>\n",
       "      <td>gini</td>\n",
       "      <td>70</td>\n",
       "      <td>auto</td>\n",
       "      <td>600</td>\n",
       "      <td>{'criterion': 'gini', 'max_depth': 70, 'max_fe...</td>\n",
       "      <td>0.971104</td>\n",
       "      <td>0.963949</td>\n",
       "      <td>0.974667</td>\n",
       "      <td>0.969907</td>\n",
       "      <td>0.004457</td>\n",
       "    </tr>\n",
       "    <tr>\n",
       "      <th>2</th>\n",
       "      <td>34.208671</td>\n",
       "      <td>0.288821</td>\n",
       "      <td>0.449666</td>\n",
       "      <td>0.006803</td>\n",
       "      <td>gini</td>\n",
       "      <td>70</td>\n",
       "      <td>auto</td>\n",
       "      <td>700</td>\n",
       "      <td>{'criterion': 'gini', 'max_depth': 70, 'max_fe...</td>\n",
       "      <td>0.971104</td>\n",
       "      <td>0.963949</td>\n",
       "      <td>0.974667</td>\n",
       "      <td>0.969907</td>\n",
       "      <td>0.004457</td>\n",
       "    </tr>\n",
       "    <tr>\n",
       "      <th>6</th>\n",
       "      <td>22.232962</td>\n",
       "      <td>0.346310</td>\n",
       "      <td>0.317667</td>\n",
       "      <td>0.013720</td>\n",
       "      <td>gini</td>\n",
       "      <td>50</td>\n",
       "      <td>auto</td>\n",
       "      <td>400</td>\n",
       "      <td>{'criterion': 'gini', 'max_depth': 50, 'max_fe...</td>\n",
       "      <td>0.971429</td>\n",
       "      <td>0.963625</td>\n",
       "      <td>0.974342</td>\n",
       "      <td>0.969798</td>\n",
       "      <td>0.004525</td>\n",
       "    </tr>\n",
       "    <tr>\n",
       "      <th>6</th>\n",
       "      <td>21.921530</td>\n",
       "      <td>0.482642</td>\n",
       "      <td>0.332333</td>\n",
       "      <td>0.010874</td>\n",
       "      <td>gini</td>\n",
       "      <td>70</td>\n",
       "      <td>auto</td>\n",
       "      <td>400</td>\n",
       "      <td>{'criterion': 'gini', 'max_depth': 70, 'max_fe...</td>\n",
       "      <td>0.971429</td>\n",
       "      <td>0.963625</td>\n",
       "      <td>0.974342</td>\n",
       "      <td>0.969798</td>\n",
       "      <td>0.004525</td>\n",
       "    </tr>\n",
       "    <tr>\n",
       "      <th>8</th>\n",
       "      <td>27.064720</td>\n",
       "      <td>0.384911</td>\n",
       "      <td>0.393667</td>\n",
       "      <td>0.010841</td>\n",
       "      <td>gini</td>\n",
       "      <td>50</td>\n",
       "      <td>auto</td>\n",
       "      <td>500</td>\n",
       "      <td>{'criterion': 'gini', 'max_depth': 50, 'max_fe...</td>\n",
       "      <td>0.970455</td>\n",
       "      <td>0.963949</td>\n",
       "      <td>0.974667</td>\n",
       "      <td>0.969690</td>\n",
       "      <td>0.004409</td>\n",
       "    </tr>\n",
       "    <tr>\n",
       "      <th>8</th>\n",
       "      <td>27.677256</td>\n",
       "      <td>0.736267</td>\n",
       "      <td>0.389000</td>\n",
       "      <td>0.004243</td>\n",
       "      <td>gini</td>\n",
       "      <td>70</td>\n",
       "      <td>auto</td>\n",
       "      <td>500</td>\n",
       "      <td>{'criterion': 'gini', 'max_depth': 70, 'max_fe...</td>\n",
       "      <td>0.970455</td>\n",
       "      <td>0.963949</td>\n",
       "      <td>0.974667</td>\n",
       "      <td>0.969690</td>\n",
       "      <td>0.004409</td>\n",
       "    </tr>\n",
       "    <tr>\n",
       "      <th>10</th>\n",
       "      <td>37.259574</td>\n",
       "      <td>0.155146</td>\n",
       "      <td>0.529666</td>\n",
       "      <td>0.008178</td>\n",
       "      <td>gini</td>\n",
       "      <td>20</td>\n",
       "      <td>auto</td>\n",
       "      <td>700</td>\n",
       "      <td>{'criterion': 'gini', 'max_depth': 20, 'max_fe...</td>\n",
       "      <td>0.971429</td>\n",
       "      <td>0.963625</td>\n",
       "      <td>0.974018</td>\n",
       "      <td>0.969690</td>\n",
       "      <td>0.004417</td>\n",
       "    </tr>\n",
       "    <tr>\n",
       "      <th>11</th>\n",
       "      <td>26.884382</td>\n",
       "      <td>0.425621</td>\n",
       "      <td>0.385666</td>\n",
       "      <td>0.012970</td>\n",
       "      <td>gini</td>\n",
       "      <td>20</td>\n",
       "      <td>auto</td>\n",
       "      <td>500</td>\n",
       "      <td>{'criterion': 'gini', 'max_depth': 20, 'max_fe...</td>\n",
       "      <td>0.971104</td>\n",
       "      <td>0.963625</td>\n",
       "      <td>0.973693</td>\n",
       "      <td>0.969474</td>\n",
       "      <td>0.004269</td>\n",
       "    </tr>\n",
       "    <tr>\n",
       "      <th>12</th>\n",
       "      <td>32.082665</td>\n",
       "      <td>0.787115</td>\n",
       "      <td>0.466000</td>\n",
       "      <td>0.014353</td>\n",
       "      <td>gini</td>\n",
       "      <td>20</td>\n",
       "      <td>auto</td>\n",
       "      <td>600</td>\n",
       "      <td>{'criterion': 'gini', 'max_depth': 20, 'max_fe...</td>\n",
       "      <td>0.970455</td>\n",
       "      <td>0.962650</td>\n",
       "      <td>0.974018</td>\n",
       "      <td>0.969041</td>\n",
       "      <td>0.004747</td>\n",
       "    </tr>\n",
       "  </tbody>\n",
       "</table>\n",
       "</div>"
      ],
      "text/plain": [
       "                 mean_fit_time  std_fit_time  mean_score_time  std_score_time  \\\n",
       "rank_test_score                                                                 \n",
       "1                    21.330055      0.414284         0.313666        0.002054   \n",
       "2                    32.703666      0.599957         0.464667        0.011324   \n",
       "2                    38.197332      0.657603         0.587000        0.044952   \n",
       "2                    33.385060      1.129537         0.450667        0.016857   \n",
       "2                    34.208671      0.288821         0.449666        0.006803   \n",
       "6                    22.232962      0.346310         0.317667        0.013720   \n",
       "6                    21.921530      0.482642         0.332333        0.010874   \n",
       "8                    27.064720      0.384911         0.393667        0.010841   \n",
       "8                    27.677256      0.736267         0.389000        0.004243   \n",
       "10                   37.259574      0.155146         0.529666        0.008178   \n",
       "11                   26.884382      0.425621         0.385666        0.012970   \n",
       "12                   32.082665      0.787115         0.466000        0.014353   \n",
       "\n",
       "                param_criterion param_max_depth param_max_features  \\\n",
       "rank_test_score                                                      \n",
       "1                          gini              20               auto   \n",
       "2                          gini              50               auto   \n",
       "2                          gini              50               auto   \n",
       "2                          gini              70               auto   \n",
       "2                          gini              70               auto   \n",
       "6                          gini              50               auto   \n",
       "6                          gini              70               auto   \n",
       "8                          gini              50               auto   \n",
       "8                          gini              70               auto   \n",
       "10                         gini              20               auto   \n",
       "11                         gini              20               auto   \n",
       "12                         gini              20               auto   \n",
       "\n",
       "                param_n_estimators  \\\n",
       "rank_test_score                      \n",
       "1                              400   \n",
       "2                              600   \n",
       "2                              700   \n",
       "2                              600   \n",
       "2                              700   \n",
       "6                              400   \n",
       "6                              400   \n",
       "8                              500   \n",
       "8                              500   \n",
       "10                             700   \n",
       "11                             500   \n",
       "12                             600   \n",
       "\n",
       "                                                            params  \\\n",
       "rank_test_score                                                      \n",
       "1                {'criterion': 'gini', 'max_depth': 20, 'max_fe...   \n",
       "2                {'criterion': 'gini', 'max_depth': 50, 'max_fe...   \n",
       "2                {'criterion': 'gini', 'max_depth': 50, 'max_fe...   \n",
       "2                {'criterion': 'gini', 'max_depth': 70, 'max_fe...   \n",
       "2                {'criterion': 'gini', 'max_depth': 70, 'max_fe...   \n",
       "6                {'criterion': 'gini', 'max_depth': 50, 'max_fe...   \n",
       "6                {'criterion': 'gini', 'max_depth': 70, 'max_fe...   \n",
       "8                {'criterion': 'gini', 'max_depth': 50, 'max_fe...   \n",
       "8                {'criterion': 'gini', 'max_depth': 70, 'max_fe...   \n",
       "10               {'criterion': 'gini', 'max_depth': 20, 'max_fe...   \n",
       "11               {'criterion': 'gini', 'max_depth': 20, 'max_fe...   \n",
       "12               {'criterion': 'gini', 'max_depth': 20, 'max_fe...   \n",
       "\n",
       "                 split0_test_score  split1_test_score  split2_test_score  \\\n",
       "rank_test_score                                                            \n",
       "1                         0.972078           0.963949           0.974342   \n",
       "2                         0.971104           0.963949           0.974667   \n",
       "2                         0.971104           0.963949           0.974667   \n",
       "2                         0.971104           0.963949           0.974667   \n",
       "2                         0.971104           0.963949           0.974667   \n",
       "6                         0.971429           0.963625           0.974342   \n",
       "6                         0.971429           0.963625           0.974342   \n",
       "8                         0.970455           0.963949           0.974667   \n",
       "8                         0.970455           0.963949           0.974667   \n",
       "10                        0.971429           0.963625           0.974018   \n",
       "11                        0.971104           0.963625           0.973693   \n",
       "12                        0.970455           0.962650           0.974018   \n",
       "\n",
       "                 mean_test_score  std_test_score  \n",
       "rank_test_score                                   \n",
       "1                       0.970123        0.004462  \n",
       "2                       0.969907        0.004457  \n",
       "2                       0.969907        0.004457  \n",
       "2                       0.969907        0.004457  \n",
       "2                       0.969907        0.004457  \n",
       "6                       0.969798        0.004525  \n",
       "6                       0.969798        0.004525  \n",
       "8                       0.969690        0.004409  \n",
       "8                       0.969690        0.004409  \n",
       "10                      0.969690        0.004417  \n",
       "11                      0.969474        0.004269  \n",
       "12                      0.969041        0.004747  "
      ]
     },
     "execution_count": 19,
     "metadata": {},
     "output_type": "execute_result"
    }
   ],
   "source": [
    "df1 = pd.DataFrame(rf_grid.cv_results_)\n",
    "df1 = df1.set_index('rank_test_score')\n",
    "df1.sort_index()"
   ]
  },
  {
   "cell_type": "code",
   "execution_count": 20,
   "metadata": {},
   "outputs": [
    {
     "name": "stdout",
     "output_type": "stream",
     "text": [
      "0.9777777777777777\n"
     ]
    }
   ],
   "source": [
    "rfc2 = RandomForestClassifier(n_estimators=400, max_features='auto', max_depth=20, criterion='gini', random_state=42)\n",
    "rfc2.fit(X_train, y_train)\n",
    "pred_g = rfc2.predict(X_test)"
   ]
  },
  {
   "cell_type": "code",
   "execution_count": 22,
   "metadata": {},
   "outputs": [
    {
     "name": "stdout",
     "output_type": "stream",
     "text": [
      "0.9777777777777777\n",
      "              precision    recall  f1-score   support\n",
      "\n",
      "           0       0.99      0.96      0.98      2005\n",
      "           1       0.96      0.99      0.98      1955\n",
      "\n",
      "    accuracy                           0.98      3960\n",
      "   macro avg       0.98      0.98      0.98      3960\n",
      "weighted avg       0.98      0.98      0.98      3960\n",
      "\n"
     ]
    },
    {
     "data": {
      "text/plain": [
       "<AxesSubplot:>"
      ]
     },
     "execution_count": 22,
     "metadata": {},
     "output_type": "execute_result"
    },
    {
     "data": {
      "image/png": "[encoded data removed]",
      "text/plain": [
       "<Figure size 432x288 with 2 Axes>"
      ]
     },
     "metadata": {
      "needs_background": "light"
     },
     "output_type": "display_data"
    }
   ],
   "source": [
    "print(accuracy_score(pred_g, y_test))\n",
    "print(classification_report(y_test, pred_g))\n",
    "sns.heatmap(confusion_matrix(y_test, pred_g), annot=True, cmap='Blues',fmt='d')"
   ]
  },
  {
   "cell_type": "code",
   "execution_count": 30,
   "metadata": {},
   "outputs": [
    {
     "data": {
      "image/png": "[encoded data removed]",
      "text/plain": [
       "<Figure size 1440x1080 with 1 Axes>"
      ]
     },
     "metadata": {
      "needs_background": "light"
     },
     "output_type": "display_data"
    }
   ],
   "source": [
    "fig = plt.figure(figsize=(20,10))\n",
    "y_pred_logtune = logreg_tuned.predict_proba(X_test)[:,1]\n",
    "hp_fpr, hp_tpr, hp_thresholds =roc_curve(y_test, y_pred_logtune)\n",
    "y_pred_rfcgrid = rfc2.predict_proba(X_test)[:,1]\n",
    "rf_fpr, rf_tpr, rf_thresholds =roc_curve(y_test, y_pred_rfcgrid)\n",
    "plt.plot([0,1],[0,1], 'r--')\n",
    "plt.plot(hp_fpr,hp_tpr,label='Logistic Regression')\n",
    "plt.plot(rf_fpr,rf_tpr,label='Random Forrest Classifier')\n",
    "plt.xlabel('False Positive Rate',fontsize=15)\n",
    "plt.ylabel('True Positive Rate',fontsize=15)\n",
    "plt.title('ROC Curve Analysis', fontsize=20)\n",
    "plt.legend(prop={'size':20}, loc='lower right')\n",
    "plt.show();"
   ]
  },
  {
   "cell_type": "code",
   "execution_count": null,
   "metadata": {},
   "outputs": [],
   "source": [
    "'''\n",
    "X_train, X_test, y_train, y_test = train_test_split(X, y, test_size=0.30, random_state=42)\n",
    "rf = RandomForestClassifier(n_estimators=50, max_depth=20, n_jobs=-1)\n",
    "rf_model = rf.fit(X_train, y_train)\n",
    "sorted(zip(rf_model.feature_importances_, X_train.columns),reverse=True)[0:10]\n",
    "'''"
   ]
  }
 ],
 "metadata": {
  "kernelspec": {
   "display_name": "Python 3",
   "language": "python",
   "name": "python3"
  },
  "language_info": {
   "codemirror_mode": {
    "name": "ipython",
    "version": 3
   },
   "file_extension": ".py",
   "mimetype": "text/x-python",
   "name": "python",
   "nbconvert_exporter": "python",
   "pygments_lexer": "ipython3",
   "version": "3.8.5"
  }
 },
 "nbformat": 4,
 "nbformat_minor": 4
}
